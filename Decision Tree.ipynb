{
 "cells": [
  {
   "cell_type": "code",
   "execution_count": 128,
   "metadata": {
    "scrolled": true
   },
   "outputs": [
    {
     "name": "stdout",
     "output_type": "stream",
     "text": [
      "Training data:\n",
      " [[5. 2. 3. 1. 1.]\n",
      " [5. 3. 2. 0. 0.]\n",
      " [6. 2. 4. 1. 1.]\n",
      " [6. 3. 4. 1. 1.]\n",
      " [6. 3. 4. 1. 1.]\n",
      " [5. 3. 1. 0. 0.]\n",
      " [5. 3. 1. 0. 0.]\n",
      " [5. 2. 3. 1. 1.]\n",
      " [5. 3. 2. 0. 0.]\n",
      " [8. 4. 6. 2. 2.]\n",
      " [5. 3. 2. 0. 0.]\n",
      " [5. 4. 2. 0. 0.]\n",
      " [6. 3. 4. 1. 1.]\n",
      " [6. 3. 6. 2. 2.]\n",
      " [5. 4. 2. 0. 0.]\n",
      " [7. 3. 5. 1. 1.]\n",
      " [6. 3. 5. 2. 2.]\n",
      " [8. 3. 7. 2. 2.]\n",
      " [6. 2. 4. 1. 1.]\n",
      " [6. 3. 5. 2. 1.]\n",
      " [5. 4. 1. 0. 0.]\n",
      " [4. 2. 1. 0. 0.]\n",
      " [6. 3. 5. 2. 2.]\n",
      " [4. 3. 1. 0. 0.]\n",
      " [5. 4. 1. 0. 0.]\n",
      " [7. 3. 6. 2. 2.]\n",
      " [6. 3. 4. 2. 1.]\n",
      " [6. 2. 4. 2. 1.]\n",
      " [7. 3. 6. 2. 2.]\n",
      " [7. 3. 6. 2. 2.]\n",
      " [6. 3. 6. 2. 2.]\n",
      " [6. 2. 5. 2. 2.]\n",
      " [5. 4. 2. 1. 0.]\n",
      " [5. 4. 2. 0. 0.]\n",
      " [7. 3. 5. 1. 1.]\n",
      " [5. 3. 4. 1. 1.]\n",
      " [5. 4. 2. 0. 0.]\n",
      " [6. 2. 4. 1. 1.]\n",
      " [6. 3. 5. 2. 2.]\n",
      " [7. 3. 5. 1. 1.]\n",
      " [6. 3. 6. 2. 2.]\n",
      " [4. 3. 1. 0. 0.]\n",
      " [7. 4. 6. 2. 2.]\n",
      " [5. 4. 1. 0. 0.]\n",
      " [6. 2. 5. 2. 1.]\n",
      " [4. 3. 1. 0. 0.]\n",
      " [8. 3. 7. 2. 2.]\n",
      " [6. 3. 4. 2. 1.]\n",
      " [5. 4. 2. 0. 0.]\n",
      " [6. 3. 5. 2. 2.]\n",
      " [6. 3. 5. 2. 2.]\n",
      " [5. 4. 1. 0. 0.]\n",
      " [5. 3. 1. 0. 0.]\n",
      " [6. 3. 5. 2. 2.]\n",
      " [6. 4. 1. 0. 0.]\n",
      " [6. 4. 2. 0. 0.]\n",
      " [5. 3. 1. 0. 0.]\n",
      " [7. 3. 5. 2. 2.]\n",
      " [6. 3. 6. 2. 2.]\n",
      " [6. 4. 1. 0. 0.]\n",
      " [6. 3. 4. 1. 1.]\n",
      " [5. 3. 1. 0. 0.]\n",
      " [6. 2. 4. 1. 1.]\n",
      " [5. 3. 1. 0. 0.]\n",
      " [5. 2. 4. 1. 1.]\n",
      " [7. 3. 4. 1. 1.]\n",
      " [6. 3. 4. 1. 1.]\n",
      " [6. 3. 4. 1. 1.]\n",
      " [6. 2. 4. 1. 1.]\n",
      " [5. 3. 2. 0. 0.]\n",
      " [6. 3. 4. 2. 1.]\n",
      " [5. 3. 2. 0. 0.]\n",
      " [7. 3. 5. 2. 1.]\n",
      " [7. 2. 6. 2. 2.]\n",
      " [5. 4. 2. 0. 0.]\n",
      " [5. 4. 2. 0. 0.]\n",
      " [5. 3. 2. 0. 0.]\n",
      " [5. 4. 1. 0. 0.]\n",
      " [8. 4. 7. 2. 2.]\n",
      " [7. 3. 6. 2. 2.]\n",
      " [5. 3. 2. 0. 0.]\n",
      " [6. 2. 4. 1. 1.]\n",
      " [6. 3. 4. 1. 1.]\n",
      " [7. 3. 6. 2. 2.]\n",
      " [6. 3. 4. 1. 1.]\n",
      " [5. 4. 2. 0. 0.]\n",
      " [5. 3. 2. 0. 0.]\n",
      " [6. 3. 5. 2. 1.]\n",
      " [6. 3. 4. 1. 1.]\n",
      " [6. 3. 5. 1. 1.]\n",
      " [5. 3. 2. 0. 0.]\n",
      " [6. 3. 4. 1. 1.]\n",
      " [5. 3. 4. 2. 1.]\n",
      " [5. 4. 1. 0. 0.]\n",
      " [7. 3. 6. 2. 2.]\n",
      " [5. 2. 4. 2. 2.]\n",
      " [6. 3. 5. 2. 2.]\n",
      " [6. 2. 4. 1. 1.]\n",
      " [8. 3. 7. 2. 2.]\n",
      " [5. 3. 2. 0. 0.]\n",
      " [7. 3. 5. 2. 1.]\n",
      " [6. 4. 1. 0. 0.]\n",
      " [5. 3. 1. 0. 0.]\n",
      " [5. 3. 1. 0. 0.]\n",
      " [6. 3. 5. 2. 2.]\n",
      " [6. 3. 4. 2. 1.]\n",
      " [7. 3. 6. 2. 2.]\n",
      " [5. 2. 3. 1. 1.]\n",
      " [6. 2. 5. 2. 2.]\n",
      " [6. 3. 4. 2. 1.]\n",
      " [8. 3. 6. 2. 2.]\n",
      " [5. 3. 2. 0. 0.]]\n",
      "Testing data:\n",
      " [[6. 3. 4. 1. 1.]\n",
      " [7. 3. 4. 1. 1.]\n",
      " [5. 3. 2. 0. 0.]\n",
      " [6. 3. 5. 2. 1.]\n",
      " [6. 3. 6. 1. 2.]\n",
      " [6. 3. 6. 2. 2.]\n",
      " [5. 3. 2. 0. 0.]\n",
      " [5. 4. 1. 0. 0.]\n",
      " [6. 3. 6. 2. 2.]\n",
      " [7. 3. 6. 2. 2.]\n",
      " [7. 3. 6. 2. 2.]\n",
      " [4. 3. 1. 0. 0.]\n",
      " [6. 3. 6. 2. 2.]\n",
      " [6. 3. 5. 1. 1.]\n",
      " [7. 3. 5. 2. 2.]\n",
      " [6. 3. 4. 1. 1.]\n",
      " [6. 3. 5. 2. 2.]\n",
      " [5. 4. 2. 0. 0.]\n",
      " [6. 3. 5. 2. 1.]\n",
      " [7. 3. 6. 2. 2.]\n",
      " [5. 3. 2. 0. 0.]\n",
      " [6. 4. 2. 0. 0.]\n",
      " [6. 3. 6. 2. 2.]\n",
      " [5. 3. 1. 0. 0.]\n",
      " [6. 2. 5. 2. 2.]\n",
      " [6. 3. 5. 2. 2.]\n",
      " [6. 3. 5. 1. 1.]\n",
      " [6. 3. 4. 1. 1.]\n",
      " [6. 3. 5. 2. 2.]\n",
      " [6. 3. 5. 2. 2.]\n",
      " [6. 3. 4. 1. 1.]\n",
      " [7. 3. 5. 2. 1.]\n",
      " [6. 3. 5. 2. 2.]\n",
      " [6. 3. 5. 2. 2.]\n",
      " [7. 3. 6. 2. 2.]\n",
      " [7. 3. 5. 2. 2.]\n",
      " [6. 3. 5. 2. 2.]\n",
      " [6. 3. 4. 1. 1.]]\n"
     ]
    }
   ],
   "source": [
    "from sklearn.model_selection import train_test_split\n",
    "from sklearn import preprocessing\n",
    "from sklearn import datasets\n",
    "import numpy as np\n",
    "\n",
    "iris=datasets.load_iris()\n",
    "X = iris.data\n",
    "y = iris.target.reshape(1,150)\n",
    "\n",
    "data = np.concatenate((X, y.T), axis=1).round()\n",
    "\n",
    "data_train, data_test = train_test_split(data, test_size=0.25, random_state=33)\n",
    "\n",
    "\n",
    "print(\"Training data:\\n\", data_train)\n",
    "print(\"Testing data:\\n\", data_test)"
   ]
  },
  {
   "cell_type": "code",
   "execution_count": 85,
   "metadata": {},
   "outputs": [
    {
     "data": {
      "text/plain": [
       "['sepal length (cm)',\n",
       " 'sepal width (cm)',\n",
       " 'petal length (cm)',\n",
       " 'petal width (cm)']"
      ]
     },
     "execution_count": 85,
     "metadata": {},
     "output_type": "execute_result"
    }
   ],
   "source": [
    "header = iris.feature_names\n",
    "header"
   ]
  },
  {
   "cell_type": "code",
   "execution_count": 129,
   "metadata": {},
   "outputs": [],
   "source": [
    "def unique_valuess(rows, col):\n",
    "    \"\"\"Find the unique values for a column in a dataset.\"\"\"\n",
    "    return set([row[col] for row in rows])"
   ]
  },
  {
   "cell_type": "code",
   "execution_count": 130,
   "metadata": {},
   "outputs": [
    {
     "data": {
      "text/plain": [
       "{2.0, 3.0, 4.0}"
      ]
     },
     "execution_count": 130,
     "metadata": {},
     "output_type": "execute_result"
    }
   ],
   "source": [
    "unique_vals(data_train, 1)"
   ]
  },
  {
   "cell_type": "code",
   "execution_count": 131,
   "metadata": {},
   "outputs": [],
   "source": [
    "def class_counts(rows):\n",
    "    \"\"\"Counts the number of each type of example in a dataset.\"\"\"\n",
    "    counts = {}  # a dictionary of label -> count.\n",
    "    for row in rows:\n",
    "        # in our dataset format, the label is always the last column\n",
    "        label = row[-1]\n",
    "        if label not in counts:\n",
    "            counts[label] = 0\n",
    "        counts[label] += 1\n",
    "    return counts"
   ]
  },
  {
   "cell_type": "code",
   "execution_count": 132,
   "metadata": {},
   "outputs": [],
   "source": [
    "class Question:\n",
    "    \"\"\"A Question is used to partition a dataset.\n",
    "\n",
    "    This class just records a 'column number' (e.g., 0 for Color) and a\n",
    "    'column value' (e.g., Green). The 'match' method is used to compare\n",
    "    the feature value in an example to the feature value stored in the\n",
    "    question. See the demo below.\n",
    "    \"\"\"\n",
    "\n",
    "    def __init__(self, column, value):\n",
    "        self.column = column\n",
    "        self.value = value\n",
    "\n",
    "    def match(self, example):\n",
    "        # Compare the feature value in an example to the\n",
    "        # feature value in this question.\n",
    "        val = example[self.column]\n",
    "        return val >= self.value\n",
    "\n",
    "    def __repr__(self):\n",
    "        # This is just a helper method to print\n",
    "        # the question in a readable format.\n",
    "        condition = \">=\"\n",
    "        return \"Is %s %s %s?\" % (\n",
    "            header[self.column], condition, str(self.value))"
   ]
  },
  {
   "cell_type": "code",
   "execution_count": 133,
   "metadata": {},
   "outputs": [
    {
     "data": {
      "text/plain": [
       "Is sepal width (cm) >= 2?"
      ]
     },
     "execution_count": 133,
     "metadata": {},
     "output_type": "execute_result"
    }
   ],
   "source": [
    "Question(1, 2)\n"
   ]
  },
  {
   "cell_type": "code",
   "execution_count": 134,
   "metadata": {},
   "outputs": [],
   "source": [
    "def partition(rows, question):\n",
    "    \"\"\"Partitions a dataset.\n",
    "\n",
    "    For each row in the dataset, check if it matches the question. If\n",
    "    so, add it to 'true rows', otherwise, add it to 'false rows'.\n",
    "    \"\"\"\n",
    "    true_rows, false_rows = [], []\n",
    "    for row in rows:\n",
    "        if question.match(row):\n",
    "            true_rows.append(row)\n",
    "        else:\n",
    "            false_rows.append(row)\n",
    "    return true_rows, false_rows"
   ]
  },
  {
   "cell_type": "code",
   "execution_count": 135,
   "metadata": {},
   "outputs": [],
   "source": [
    "true_rows, false_rows = partition(data_train, Question(0, 1))"
   ]
  },
  {
   "cell_type": "code",
   "execution_count": 136,
   "metadata": {},
   "outputs": [
    {
     "data": {
      "text/plain": [
       "[array([5., 2., 3., 1., 1.]),\n",
       " array([5., 3., 2., 0., 0.]),\n",
       " array([6., 2., 4., 1., 1.]),\n",
       " array([6., 3., 4., 1., 1.]),\n",
       " array([6., 3., 4., 1., 1.]),\n",
       " array([5., 3., 1., 0., 0.]),\n",
       " array([5., 3., 1., 0., 0.]),\n",
       " array([5., 2., 3., 1., 1.]),\n",
       " array([5., 3., 2., 0., 0.]),\n",
       " array([8., 4., 6., 2., 2.]),\n",
       " array([5., 3., 2., 0., 0.]),\n",
       " array([5., 4., 2., 0., 0.]),\n",
       " array([6., 3., 4., 1., 1.]),\n",
       " array([6., 3., 6., 2., 2.]),\n",
       " array([5., 4., 2., 0., 0.]),\n",
       " array([7., 3., 5., 1., 1.]),\n",
       " array([6., 3., 5., 2., 2.]),\n",
       " array([8., 3., 7., 2., 2.]),\n",
       " array([6., 2., 4., 1., 1.]),\n",
       " array([6., 3., 5., 2., 1.]),\n",
       " array([5., 4., 1., 0., 0.]),\n",
       " array([4., 2., 1., 0., 0.]),\n",
       " array([6., 3., 5., 2., 2.]),\n",
       " array([4., 3., 1., 0., 0.]),\n",
       " array([5., 4., 1., 0., 0.]),\n",
       " array([7., 3., 6., 2., 2.]),\n",
       " array([6., 3., 4., 2., 1.]),\n",
       " array([6., 2., 4., 2., 1.]),\n",
       " array([7., 3., 6., 2., 2.]),\n",
       " array([7., 3., 6., 2., 2.]),\n",
       " array([6., 3., 6., 2., 2.]),\n",
       " array([6., 2., 5., 2., 2.]),\n",
       " array([5., 4., 2., 1., 0.]),\n",
       " array([5., 4., 2., 0., 0.]),\n",
       " array([7., 3., 5., 1., 1.]),\n",
       " array([5., 3., 4., 1., 1.]),\n",
       " array([5., 4., 2., 0., 0.]),\n",
       " array([6., 2., 4., 1., 1.]),\n",
       " array([6., 3., 5., 2., 2.]),\n",
       " array([7., 3., 5., 1., 1.]),\n",
       " array([6., 3., 6., 2., 2.]),\n",
       " array([4., 3., 1., 0., 0.]),\n",
       " array([7., 4., 6., 2., 2.]),\n",
       " array([5., 4., 1., 0., 0.]),\n",
       " array([6., 2., 5., 2., 1.]),\n",
       " array([4., 3., 1., 0., 0.]),\n",
       " array([8., 3., 7., 2., 2.]),\n",
       " array([6., 3., 4., 2., 1.]),\n",
       " array([5., 4., 2., 0., 0.]),\n",
       " array([6., 3., 5., 2., 2.]),\n",
       " array([6., 3., 5., 2., 2.]),\n",
       " array([5., 4., 1., 0., 0.]),\n",
       " array([5., 3., 1., 0., 0.]),\n",
       " array([6., 3., 5., 2., 2.]),\n",
       " array([6., 4., 1., 0., 0.]),\n",
       " array([6., 4., 2., 0., 0.]),\n",
       " array([5., 3., 1., 0., 0.]),\n",
       " array([7., 3., 5., 2., 2.]),\n",
       " array([6., 3., 6., 2., 2.]),\n",
       " array([6., 4., 1., 0., 0.]),\n",
       " array([6., 3., 4., 1., 1.]),\n",
       " array([5., 3., 1., 0., 0.]),\n",
       " array([6., 2., 4., 1., 1.]),\n",
       " array([5., 3., 1., 0., 0.]),\n",
       " array([5., 2., 4., 1., 1.]),\n",
       " array([7., 3., 4., 1., 1.]),\n",
       " array([6., 3., 4., 1., 1.]),\n",
       " array([6., 3., 4., 1., 1.]),\n",
       " array([6., 2., 4., 1., 1.]),\n",
       " array([5., 3., 2., 0., 0.]),\n",
       " array([6., 3., 4., 2., 1.]),\n",
       " array([5., 3., 2., 0., 0.]),\n",
       " array([7., 3., 5., 2., 1.]),\n",
       " array([7., 2., 6., 2., 2.]),\n",
       " array([5., 4., 2., 0., 0.]),\n",
       " array([5., 4., 2., 0., 0.]),\n",
       " array([5., 3., 2., 0., 0.]),\n",
       " array([5., 4., 1., 0., 0.]),\n",
       " array([8., 4., 7., 2., 2.]),\n",
       " array([7., 3., 6., 2., 2.]),\n",
       " array([5., 3., 2., 0., 0.]),\n",
       " array([6., 2., 4., 1., 1.]),\n",
       " array([6., 3., 4., 1., 1.]),\n",
       " array([7., 3., 6., 2., 2.]),\n",
       " array([6., 3., 4., 1., 1.]),\n",
       " array([5., 4., 2., 0., 0.]),\n",
       " array([5., 3., 2., 0., 0.]),\n",
       " array([6., 3., 5., 2., 1.]),\n",
       " array([6., 3., 4., 1., 1.]),\n",
       " array([6., 3., 5., 1., 1.]),\n",
       " array([5., 3., 2., 0., 0.]),\n",
       " array([6., 3., 4., 1., 1.]),\n",
       " array([5., 3., 4., 2., 1.]),\n",
       " array([5., 4., 1., 0., 0.]),\n",
       " array([7., 3., 6., 2., 2.]),\n",
       " array([5., 2., 4., 2., 2.]),\n",
       " array([6., 3., 5., 2., 2.]),\n",
       " array([6., 2., 4., 1., 1.]),\n",
       " array([8., 3., 7., 2., 2.]),\n",
       " array([5., 3., 2., 0., 0.]),\n",
       " array([7., 3., 5., 2., 1.]),\n",
       " array([6., 4., 1., 0., 0.]),\n",
       " array([5., 3., 1., 0., 0.]),\n",
       " array([5., 3., 1., 0., 0.]),\n",
       " array([6., 3., 5., 2., 2.]),\n",
       " array([6., 3., 4., 2., 1.]),\n",
       " array([7., 3., 6., 2., 2.]),\n",
       " array([5., 2., 3., 1., 1.]),\n",
       " array([6., 2., 5., 2., 2.]),\n",
       " array([6., 3., 4., 2., 1.]),\n",
       " array([8., 3., 6., 2., 2.]),\n",
       " array([5., 3., 2., 0., 0.])]"
      ]
     },
     "execution_count": 136,
     "metadata": {},
     "output_type": "execute_result"
    }
   ],
   "source": [
    "true_rows"
   ]
  },
  {
   "cell_type": "code",
   "execution_count": 137,
   "metadata": {},
   "outputs": [],
   "source": [
    "def gini(rows):\n",
    "    \"\"\"Calculate the Gini Impurity for a list of rows.\n",
    "\n",
    "    There are a few different ways to do this, I thought this one was\n",
    "    the most concise. See:\n",
    "    https://en.wikipedia.org/wiki/Decision_tree_learning#Gini_impurity\n",
    "    \"\"\"\n",
    "    counts = class_counts(rows)\n",
    "    impurity = 1\n",
    "    for lbl in counts:\n",
    "        prob_of_lbl = counts[lbl] / float(len(rows))\n",
    "        impurity -= prob_of_lbl**2\n",
    "    return impurity"
   ]
  },
  {
   "cell_type": "code",
   "execution_count": 138,
   "metadata": {},
   "outputs": [
    {
     "data": {
      "text/plain": [
       "0.6399999999999999"
      ]
     },
     "execution_count": 138,
     "metadata": {},
     "output_type": "execute_result"
    }
   ],
   "source": [
    "gini([[1],[2],[2],[1],[3]])"
   ]
  },
  {
   "cell_type": "code",
   "execution_count": 139,
   "metadata": {},
   "outputs": [],
   "source": [
    "def info_gain(left, right, current_uncertainty):\n",
    "    \"\"\"Information Gain.\n",
    "\n",
    "    The uncertainty of the starting node, minus the weighted impurity of\n",
    "    two child nodes.\n",
    "    \"\"\"\n",
    "    p = float(len(left)) / (len(left) + len(right))\n",
    "    return current_uncertainty - p * gini(left) - (1 - p) * gini(right)"
   ]
  },
  {
   "cell_type": "code",
   "execution_count": 161,
   "metadata": {},
   "outputs": [
    {
     "data": {
      "text/plain": [
       "0.08537511595547309"
      ]
     },
     "execution_count": 161,
     "metadata": {},
     "output_type": "execute_result"
    }
   ],
   "source": [
    "current_uncertainty = gini(data_train)\n",
    "true_rows, false_rows = partition(data_train, Question(0,7))\n",
    "info_gain(true_rows, false_rows, current_uncertainty)"
   ]
  },
  {
   "cell_type": "code",
   "execution_count": 162,
   "metadata": {},
   "outputs": [],
   "source": [
    "def find_best_split(rows):\n",
    "    \"\"\"Find the best question to ask by iterating over every feature / value\n",
    "    and calculating the information gain.\"\"\"\n",
    "    best_gain = 0  # keep track of the best information gain\n",
    "    best_question = None  # keep train of the feature / value that produced it\n",
    "    current_uncertainty = gini(rows)\n",
    "    n_features = len(rows[0]) - 1  # number of columns\n",
    "\n",
    "    for col in range(n_features):  # for each feature\n",
    "\n",
    "        values = set([row[col] for row in rows])  # unique values in the column\n",
    "\n",
    "        for val in values:  # for each value\n",
    "\n",
    "            question = Question(col, val)\n",
    "\n",
    "            # try splitting the dataset\n",
    "            true_rows, false_rows = partition(rows, question)\n",
    "\n",
    "            # Skip this split if it doesn't divide the\n",
    "            # dataset.\n",
    "            if len(true_rows) == 0 or len(false_rows) == 0:\n",
    "                continue\n",
    "\n",
    "            # Calculate the information gain from this split\n",
    "            gain = info_gain(true_rows, false_rows, current_uncertainty)\n",
    "\n",
    "            # You actually can use '>' instead of '>=' here\n",
    "            # but I wanted the tree to look a certain way for our\n",
    "            # toy dataset.\n",
    "            if gain >= best_gain:\n",
    "                best_gain, best_question = gain, question\n",
    "\n",
    "    return best_gain, best_question"
   ]
  },
  {
   "cell_type": "code",
   "execution_count": 167,
   "metadata": {},
   "outputs": [
    {
     "name": "stdout",
     "output_type": "stream",
     "text": [
      "Best gain:  0.35309311224489803 \n",
      "best question:  Is petal length (cm) >= 3.0?\n"
     ]
    }
   ],
   "source": [
    "best_gain, best_question = find_best_split(data_train)\n",
    "print(\"Best gain: \", best_gain, \n",
    "      \"\\nbest question: \", best_question)"
   ]
  },
  {
   "cell_type": "code",
   "execution_count": 168,
   "metadata": {},
   "outputs": [],
   "source": [
    "class Leaf:\n",
    "    \"\"\"A Leaf node classifies data.\n",
    "\n",
    "    This holds a dictionary of class (e.g., \"Apple\") -> number of times\n",
    "    it appears in the rows from the training data that reach this leaf.\n",
    "    \"\"\"\n",
    "\n",
    "    def __init__(self, rows):\n",
    "        self.predictions = class_counts(rows)"
   ]
  },
  {
   "cell_type": "code",
   "execution_count": 169,
   "metadata": {},
   "outputs": [],
   "source": [
    "class Decision_Node:\n",
    "    \"\"\"A Decision Node asks a question.\n",
    "\n",
    "    This holds a reference to the question, and to the two child nodes.\n",
    "    \"\"\"\n",
    "\n",
    "    def __init__(self,\n",
    "                 question,\n",
    "                 true_branch,\n",
    "                 false_branch):\n",
    "        self.question = question\n",
    "        self.true_branch = true_branch\n",
    "        self.false_branch = false_branch"
   ]
  },
  {
   "cell_type": "code",
   "execution_count": 170,
   "metadata": {},
   "outputs": [],
   "source": [
    "def build_tree(rows):\n",
    "    \"\"\"Builds the tree.\n",
    "\n",
    "    Rules of recursion: 1) Believe that it works. 2) Start by checking\n",
    "    for the base case (no further information gain). 3) Prepare for\n",
    "    giant stack traces.\n",
    "    \"\"\"\n",
    "\n",
    "    # Try partitioing the dataset on each of the unique attribute,\n",
    "    # calculate the information gain,\n",
    "    # and return the question that produces the highest gain.\n",
    "    gain, question = find_best_split(rows)\n",
    "\n",
    "    # Base case: no further info gain\n",
    "    # Since we can ask no further questions,\n",
    "    # we'll return a leaf.\n",
    "    if gain == 0:\n",
    "        return Leaf(rows)\n",
    "\n",
    "    # If we reach here, we have found a useful feature / value\n",
    "    # to partition on.\n",
    "    true_rows, false_rows = partition(rows, question)\n",
    "\n",
    "    # Recursively build the true branch.\n",
    "    true_branch = build_tree(true_rows)\n",
    "\n",
    "    # Recursively build the false branch.\n",
    "    false_branch = build_tree(false_rows)\n",
    "\n",
    "    # Return a Question node.\n",
    "    # This records the best feature / value to ask at this point,\n",
    "    # as well as the branches to follow\n",
    "    # dependingo on the answer.\n",
    "    return Decision_Node(question, true_branch, false_branch)"
   ]
  },
  {
   "cell_type": "code",
   "execution_count": 171,
   "metadata": {},
   "outputs": [],
   "source": [
    "def print_tree(node, spacing=\"\"):\n",
    "    \"\"\"World's most elegant tree printing function.\"\"\"\n",
    "\n",
    "    # Base case: we've reached a leaf\n",
    "    if isinstance(node, Leaf):\n",
    "        print (spacing + \"Predict\", node.predictions)\n",
    "        return\n",
    "\n",
    "    # Print the question at this node\n",
    "    print (spacing + str(node.question))\n",
    "\n",
    "    # Call this function recursively on the true branch\n",
    "    print (spacing + '--> True:')\n",
    "    print_tree(node.true_branch, spacing + \"  \")\n",
    "\n",
    "    # Call this function recursively on the false branch\n",
    "    print (spacing + '--> False:')\n",
    "    print_tree(node.false_branch, spacing + \"  \")"
   ]
  },
  {
   "cell_type": "code",
   "execution_count": 173,
   "metadata": {},
   "outputs": [
    {
     "name": "stdout",
     "output_type": "stream",
     "text": [
      "Is petal length (cm) >= 3.0?\n",
      "--> True:\n",
      "  Is petal length (cm) >= 5.0?\n",
      "  --> True:\n",
      "    Is petal width (cm) >= 2.0?\n",
      "    --> True:\n",
      "      Is petal length (cm) >= 6.0?\n",
      "      --> True:\n",
      "        Predict {2.0: 19}\n",
      "      --> False:\n",
      "        Is sepal length (cm) >= 7.0?\n",
      "        --> True:\n",
      "          Predict {2.0: 1, 1.0: 2}\n",
      "        --> False:\n",
      "          Is sepal width (cm) >= 3.0?\n",
      "          --> True:\n",
      "            Predict {2.0: 8, 1.0: 2}\n",
      "          --> False:\n",
      "            Predict {2.0: 2, 1.0: 1}\n",
      "    --> False:\n",
      "      Predict {1.0: 4}\n",
      "  --> False:\n",
      "    Is sepal length (cm) >= 6.0?\n",
      "    --> True:\n",
      "      Predict {1.0: 24}\n",
      "    --> False:\n",
      "      Is petal width (cm) >= 2.0?\n",
      "      --> True:\n",
      "        Is sepal width (cm) >= 3.0?\n",
      "        --> True:\n",
      "          Predict {1.0: 1}\n",
      "        --> False:\n",
      "          Predict {2.0: 1}\n",
      "      --> False:\n",
      "        Predict {1.0: 5}\n",
      "--> False:\n",
      "  Predict {0.0: 42}\n"
     ]
    }
   ],
   "source": [
    "my_tree = build_tree(data_train)\n",
    "print_tree(my_tree)"
   ]
  },
  {
   "cell_type": "code",
   "execution_count": 174,
   "metadata": {},
   "outputs": [],
   "source": [
    "def classify(row, node):\n",
    "    \"\"\"See the 'rules of recursion' above.\"\"\"\n",
    "\n",
    "    # Base case: we've reached a leaf\n",
    "    if isinstance(node, Leaf):\n",
    "        return node.predictions\n",
    "\n",
    "    # Decide whether to follow the true-branch or the false-branch.\n",
    "    # Compare the feature / value stored in the node,\n",
    "    # to the example we're considering.\n",
    "    if node.question.match(row):\n",
    "        return classify(row, node.true_branch)\n",
    "    else:\n",
    "        return classify(row, node.false_branch)"
   ]
  },
  {
   "cell_type": "code",
   "execution_count": 175,
   "metadata": {},
   "outputs": [
    {
     "data": {
      "text/plain": [
       "{1.0: 5}"
      ]
     },
     "execution_count": 175,
     "metadata": {},
     "output_type": "execute_result"
    }
   ],
   "source": [
    "classify(data_train[0],my_tree)"
   ]
  },
  {
   "cell_type": "code",
   "execution_count": 176,
   "metadata": {},
   "outputs": [],
   "source": [
    "def print_leaf(counts):\n",
    "    \"\"\"A nicer way to print the predictions at a leaf.\"\"\"\n",
    "    total = sum(counts.values()) * 1.0\n",
    "    probs = {}\n",
    "    for lbl in counts.keys():\n",
    "        probs[lbl] = str(int(counts[lbl] / total * 100)) + \"%\"\n",
    "    return probs"
   ]
  },
  {
   "cell_type": "code",
   "execution_count": 177,
   "metadata": {},
   "outputs": [
    {
     "data": {
      "text/plain": [
       "{1.0: '100%'}"
      ]
     },
     "execution_count": 177,
     "metadata": {},
     "output_type": "execute_result"
    }
   ],
   "source": [
    "print_leaf(classify(data_train[0], my_tree))"
   ]
  },
  {
   "cell_type": "code",
   "execution_count": 185,
   "metadata": {},
   "outputs": [
    {
     "data": {
      "text/plain": [
       "{1.0: '100%'}"
      ]
     },
     "execution_count": 185,
     "metadata": {},
     "output_type": "execute_result"
    }
   ],
   "source": [
    "print_leaf(classify(data_train[18], my_tree))"
   ]
  },
  {
   "cell_type": "code",
   "execution_count": 186,
   "metadata": {},
   "outputs": [
    {
     "name": "stdout",
     "output_type": "stream",
     "text": [
      "Actual: 1.0. Predicted: {1.0: '100%'}\n",
      "Actual: 1.0. Predicted: {1.0: '100%'}\n",
      "Actual: 0.0. Predicted: {0.0: '100%'}\n",
      "Actual: 1.0. Predicted: {2.0: '80%', 1.0: '20%'}\n",
      "Actual: 2.0. Predicted: {1.0: '100%'}\n",
      "Actual: 2.0. Predicted: {2.0: '100%'}\n",
      "Actual: 0.0. Predicted: {0.0: '100%'}\n",
      "Actual: 0.0. Predicted: {0.0: '100%'}\n",
      "Actual: 2.0. Predicted: {2.0: '100%'}\n",
      "Actual: 2.0. Predicted: {2.0: '100%'}\n",
      "Actual: 2.0. Predicted: {2.0: '100%'}\n",
      "Actual: 0.0. Predicted: {0.0: '100%'}\n",
      "Actual: 2.0. Predicted: {2.0: '100%'}\n",
      "Actual: 1.0. Predicted: {1.0: '100%'}\n",
      "Actual: 2.0. Predicted: {2.0: '33%', 1.0: '66%'}\n",
      "Actual: 1.0. Predicted: {1.0: '100%'}\n",
      "Actual: 2.0. Predicted: {2.0: '80%', 1.0: '20%'}\n",
      "Actual: 0.0. Predicted: {0.0: '100%'}\n",
      "Actual: 1.0. Predicted: {2.0: '80%', 1.0: '20%'}\n",
      "Actual: 2.0. Predicted: {2.0: '100%'}\n",
      "Actual: 0.0. Predicted: {0.0: '100%'}\n",
      "Actual: 0.0. Predicted: {0.0: '100%'}\n",
      "Actual: 2.0. Predicted: {2.0: '100%'}\n",
      "Actual: 0.0. Predicted: {0.0: '100%'}\n",
      "Actual: 2.0. Predicted: {2.0: '66%', 1.0: '33%'}\n",
      "Actual: 2.0. Predicted: {2.0: '80%', 1.0: '20%'}\n",
      "Actual: 1.0. Predicted: {1.0: '100%'}\n",
      "Actual: 1.0. Predicted: {1.0: '100%'}\n",
      "Actual: 2.0. Predicted: {2.0: '80%', 1.0: '20%'}\n",
      "Actual: 2.0. Predicted: {2.0: '80%', 1.0: '20%'}\n",
      "Actual: 1.0. Predicted: {1.0: '100%'}\n",
      "Actual: 1.0. Predicted: {2.0: '33%', 1.0: '66%'}\n",
      "Actual: 2.0. Predicted: {2.0: '80%', 1.0: '20%'}\n",
      "Actual: 2.0. Predicted: {2.0: '80%', 1.0: '20%'}\n",
      "Actual: 2.0. Predicted: {2.0: '100%'}\n",
      "Actual: 2.0. Predicted: {2.0: '33%', 1.0: '66%'}\n",
      "Actual: 2.0. Predicted: {2.0: '80%', 1.0: '20%'}\n",
      "Actual: 1.0. Predicted: {1.0: '100%'}\n"
     ]
    }
   ],
   "source": [
    "for row in data_test:\n",
    "    print (\"Actual: %s. Predicted: %s\" %\n",
    "           (row[-1], print_leaf(classify(row, my_tree))))"
   ]
  },
  {
   "cell_type": "code",
   "execution_count": null,
   "metadata": {},
   "outputs": [],
   "source": []
  }
 ],
 "metadata": {
  "kernelspec": {
   "display_name": "Python 3",
   "language": "python",
   "name": "python3"
  },
  "language_info": {
   "codemirror_mode": {
    "name": "ipython",
    "version": 3
   },
   "file_extension": ".py",
   "mimetype": "text/x-python",
   "name": "python",
   "nbconvert_exporter": "python",
   "pygments_lexer": "ipython3",
   "version": "3.7.2"
  }
 },
 "nbformat": 4,
 "nbformat_minor": 2
}
