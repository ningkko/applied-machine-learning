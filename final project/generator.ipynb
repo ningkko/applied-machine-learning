{
 "cells": [
  {
   "cell_type": "code",
   "execution_count": 2,
   "metadata": {},
   "outputs": [],
   "source": [
    "import json\n",
    "with open(\"dictionary1000.json\") as dict_:  \n",
    "    dictionary_ = json.load(dict_)\n",
    "with open(\"sentence_lengthes_1k.json\") as stl_:  \n",
    "    sentence_length_ = json.load(stl_)\n"
   ]
  },
  {
   "cell_type": "code",
   "execution_count": 11,
   "metadata": {},
   "outputs": [
    {
     "data": {
      "text/plain": [
       "dict"
      ]
     },
     "execution_count": 11,
     "metadata": {},
     "output_type": "execute_result"
    }
   ],
   "source": [
    "type(dictionary_)"
   ]
  },
  {
   "cell_type": "code",
   "execution_count": 37,
   "metadata": {},
   "outputs": [],
   "source": [
    "from ast import literal_eval as make_tuple\n",
    "import random\n",
    "\n",
    "def new_sentence(dictionary, sentence_len_freq):\n",
    "\n",
    "    sentence = \"\"\n",
    "    sentence_length = int(random.choices(list(sentence_len_freq.keys()), weights = sentence_len_freq.values(), k=1)[0])\n",
    "    # index a the word in the current sentence\n",
    "    index = 0\n",
    "\n",
    "    word_frequencies = []\n",
    "    for _ in dictionary.values():\n",
    "        word_frequencies.append(_[\"frequency\"])\n",
    "        \n",
    "    first_word = random.choices(list(dictionary.keys()), weights = word_frequencies, k=1)[0]\n",
    "    sentence += first_word.capitalize()\n",
    "    current_words = [first_word]\n",
    "\n",
    "    while(index < sentence_length-2):\n",
    "        \n",
    "        key = current_words[-1]\n",
    "        while type(key) != str:\n",
    "            key = key[-1]\n",
    "\n",
    "        current_dictionary = dictionary[key][\"dict\"]\n",
    "\n",
    "        if current_dictionary:\n",
    "            current_words = make_tuple(random.choices(list(current_dictionary.keys()),\n",
    "                                                      weights = current_dictionary.values(), \n",
    "                                                      k=1)[0])\n",
    "            \n",
    "        else: \n",
    "            break\n",
    "\n",
    "\n",
    "        for _ in current_words[:]:\n",
    "\n",
    "            sentence = sentence + \" \" + _\n",
    "            index += 1\n",
    "        \n",
    "    return sentence"
   ]
  },
  {
   "cell_type": "code",
   "execution_count": 38,
   "metadata": {},
   "outputs": [
    {
     "name": "stdout",
     "output_type": "stream",
     "text": [
      "The the whore of of john cockburn\n",
      "Rode rode who took took of scafon\n",
      "Hath hath a pigeon pigeon pigeon for his\n",
      "Off off off took fuch fuch provifion as\n",
      "A a a lump of\n",
      "Multiplieth multiplieth by addition\n",
      "The the the gofpel with\n",
      "They do know know know just what\n",
      "With with with blue flitches\n",
      "Yet yet yet moft civil civil civil and foreign\n"
     ]
    }
   ],
   "source": [
    "for i in range(10):\n",
    "    print(new_sentence(dictionary_,sentence_length_))"
   ]
  },
  {
   "cell_type": "code",
   "execution_count": null,
   "metadata": {},
   "outputs": [],
   "source": []
  },
  {
   "cell_type": "code",
   "execution_count": null,
   "metadata": {},
   "outputs": [],
   "source": []
  }
 ],
 "metadata": {
  "kernelspec": {
   "display_name": "Python 3",
   "language": "python",
   "name": "python3"
  },
  "language_info": {
   "codemirror_mode": {
    "name": "ipython",
    "version": 3
   },
   "file_extension": ".py",
   "mimetype": "text/x-python",
   "name": "python",
   "nbconvert_exporter": "python",
   "pygments_lexer": "ipython3",
   "version": "3.7.2"
  }
 },
 "nbformat": 4,
 "nbformat_minor": 2
}
