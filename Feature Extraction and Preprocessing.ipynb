{
 "cells": [
  {
   "cell_type": "markdown",
   "metadata": {},
   "source": [
    "### One-Hot Encoding\n",
    "- Contains order"
   ]
  },
  {
   "cell_type": "code",
   "execution_count": 1,
   "metadata": {},
   "outputs": [],
   "source": [
    "from sklearn.feature_extraction import DictVectorizer"
   ]
  },
  {
   "cell_type": "code",
   "execution_count": 2,
   "metadata": {},
   "outputs": [
    {
     "name": "stdout",
     "output_type": "stream",
     "text": [
      "[[0. 1. 0.]\n",
      " [0. 0. 1.]\n",
      " [1. 0. 0.]]\n"
     ]
    }
   ],
   "source": [
    "onehot_encoder = DictVectorizer()\n",
    "instances = [\n",
    "    {'city': 'New York'},\n",
    "    {'city': 'San Francisco'},\n",
    "    {'city': 'Chapel hILL'}\n",
    "]\n",
    "print(onehot_encoder.fit_transform(instances).toarray())"
   ]
  },
  {
   "cell_type": "markdown",
   "metadata": {},
   "source": [
    "## Extracting features from text\n",
    "### The bag-of-words representation\n",
    "- does not encode syntax, ignores the order of words, disregards all grammar\n",
    "- Effective for document classification and retriecal\n",
    "- Uses a feature vector with an element for each of the words\n",
    "- Tokens: case-insensitive words or affixes"
   ]
  },
  {
   "cell_type": "code",
   "execution_count": 13,
   "metadata": {},
   "outputs": [
    {
     "name": "stdout",
     "output_type": "stream",
     "text": [
      "[[0 1 1 0 1 0 1 0 0 1]\n",
      " [0 1 1 1 0 1 0 0 1 0]\n",
      " [1 0 0 0 0 0 0 1 0 0]]\n",
      "{'unc': 9, 'played': 6, 'duke': 2, 'in': 4, 'basketball': 1, 'lost': 5, 'the': 8, 'game': 3, 'ate': 0, 'sandwich': 7}\n"
     ]
    }
   ],
   "source": [
    "from sklearn.feature_extraction.text import CountVectorizer\n",
    "corpus = [\n",
    "        'UNC played Duke in basketball',\n",
    "        'Duke lost the basketball game',\n",
    "        'I ate a sandwich'\n",
    "]\n",
    "vectorizer = CountVectorizer()\n",
    "\n",
    "## Prints whether the nth word in the vocabulary list has appeared\n",
    "## in the nth feature vector\n",
    "print(vectorizer.fit_transform(corpus).todense())\n",
    "## Prints the vocabulary list\n",
    "print(vectorizer.vocabulary_)"
   ]
  },
  {
   "cell_type": "markdown",
   "metadata": {},
   "source": [
    "#### We can calculate the Euclidean distance between each pair of the vectors, to see which ones are more similar. "
   ]
  },
  {
   "cell_type": "code",
   "execution_count": 25,
   "metadata": {},
   "outputs": [
    {
     "data": {
      "text/plain": [
       "matrix([[0, 1, 1, 0, 1, 0, 1, 0, 0, 1],\n",
       "        [0, 1, 1, 1, 0, 1, 0, 0, 1, 0],\n",
       "        [1, 0, 0, 0, 0, 0, 0, 1, 0, 0]], dtype=int64)"
      ]
     },
     "execution_count": 25,
     "metadata": {},
     "output_type": "execute_result"
    }
   ],
   "source": [
    "from sklearn.metrics.pairwise import euclidean_distances\n",
    "counts = vectorizer.fit_transform(corpus).todense()\n",
    "counts"
   ]
  },
  {
   "cell_type": "code",
   "execution_count": 26,
   "metadata": {},
   "outputs": [
    {
     "name": "stdout",
     "output_type": "stream",
     "text": [
      "Distance between 1st and 2nd documents: [[2.44948974]]\n",
      "Distance between 2nd and 3rd documents: [[2.64575131]]\n",
      "Distance between 3rd and 1st documents: [[2.64575131]]\n"
     ]
    }
   ],
   "source": [
    "print('Distance between 1st and 2nd documents:', euclidean_distances(counts[0], counts[1]))\n",
    "print('Distance between 2nd and 3rd documents:', euclidean_distances(counts[1], counts[2]))\n",
    "print('Distance between 3rd and 1st documents:', euclidean_distances(counts[2], counts[0]))"
   ]
  },
  {
   "cell_type": "markdown",
   "metadata": {},
   "source": [
    "- **Sparse vectors** ::= High-dimensional feature vectors that have many zero-values elements\n",
    "    - We want to reduce the dmension becausse higher dimension data require more space and more trainings"
   ]
  },
  {
   "cell_type": "markdown",
   "metadata": {},
   "source": [
    "### Stop-word filtering\n",
    "- Dterminers, auxiliary verbs, prepositions etc..\n",
    "- Contribute through grammar rather than denotations\n"
   ]
  },
  {
   "cell_type": "code",
   "execution_count": 31,
   "metadata": {},
   "outputs": [
    {
     "name": "stdout",
     "output_type": "stream",
     "text": [
      "[[0 1 1 0 0 1 0 1]\n",
      " [0 1 1 1 1 0 0 0]\n",
      " [1 0 0 0 0 0 1 0]]\n",
      "{'unc': 7, 'played': 5, 'duke': 2, 'basketball': 1, 'lost': 4, 'game': 3, 'ate': 0, 'sandwich': 6}\n"
     ]
    }
   ],
   "source": [
    "vectorizer = CountVectorizer(stop_words = \"english\")\n",
    "print(vectorizer.fit_transform(corpus).todense())\n",
    "print(vectorizer.vocabulary_)"
   ]
  },
  {
   "cell_type": "markdown",
   "metadata": {},
   "source": [
    "#### We can see that the vocabulary list ignored stop words \"the\" and \"in\"."
   ]
  },
  {
   "cell_type": "markdown",
   "metadata": {},
   "source": [
    "### Stemming\n",
    "- A strategy to condense inflected and derived forms of a word into single feature"
   ]
  },
  {
   "cell_type": "code",
   "execution_count": 43,
   "metadata": {},
   "outputs": [
    {
     "name": "stdout",
     "output_type": "stream",
     "text": [
      "[[1 0 0 0 1]\n",
      " [0 0 1 1 0]\n",
      " [0 1 0 1 0]]\n",
      "{'ate': 0, 'sandwiches': 4, 'sandwich': 3, 'eaten': 2, 'eat': 1}\n",
      "Distance between 1st and 2nd documents: [[2.]]\n",
      "Distance between 2nd and 3rd documents: [[1.41421356]]\n",
      "Distance between 3rd and 1st documents: [[2.]]\n"
     ]
    }
   ],
   "source": [
    "vectorizer = CountVectorizer(binary=True, stop_words='english')\n",
    "corpus = [\n",
    "    'He ate the sandwiches',\n",
    "    'Every sandwich was eaten by him',\n",
    "    'I eat that sandwich'\n",
    "]\n",
    "\n",
    "counts = vectorizer.fit_transform(corpus).todense()\n",
    "print(counts)\n",
    "print(vectorizer.vocabulary_)\n",
    "\n",
    "print('Distance between 1st and 2nd documents:', euclidean_distances(counts[0], counts[1]))\n",
    "print('Distance between 2nd and 3rd documents:', euclidean_distances(counts[1], counts[2]))\n",
    "print('Distance between 3rd and 1st documents:', euclidean_distances(counts[2], counts[0]))"
   ]
  },
  {
   "cell_type": "markdown",
   "metadata": {},
   "source": [
    "### Lemmatization\n",
    "- the process of determining the lemma, aka the morphological roots of words\n",
    "- stemming remmoves all patterns of characters that appear to be affixes. Might result in generating tokens that are not words"
   ]
  },
  {
   "cell_type": "code",
   "execution_count": 44,
   "metadata": {},
   "outputs": [],
   "source": [
    "corpus = [\n",
    "       'I am gathering ingredients for the sandwich.',\n",
    "       'There were many wizards at the gathering.'\n",
    "]"
   ]
  },
  {
   "cell_type": "code",
   "execution_count": 4,
   "metadata": {},
   "outputs": [
    {
     "name": "stdout",
     "output_type": "stream",
     "text": [
      "showing info https://raw.githubusercontent.com/nltk/nltk_data/gh-pages/index.xml\n"
     ]
    },
    {
     "name": "stderr",
     "output_type": "stream",
     "text": [
      "Exception in Tkinter callback\n",
      "Traceback (most recent call last):\n",
      "  File \"/usr/local/Cellar/python/3.7.2_2/Frameworks/Python.framework/Versions/3.7/lib/python3.7/tkinter/__init__.py\", line 1705, in __call__\n",
      "    return self.func(*args)\n",
      "  File \"/usr/local/lib/python3.7/site-packages/nltk/downloader.py\", line 1796, in _download\n",
      "    return self._download_threaded(*e)\n",
      "  File \"/usr/local/lib/python3.7/site-packages/nltk/downloader.py\", line 2082, in _download_threaded\n",
      "    assert self._download_msg_queue == []\n",
      "AssertionError\n",
      "Exception in Tkinter callback\n",
      "Traceback (most recent call last):\n",
      "  File \"/usr/local/Cellar/python/3.7.2_2/Frameworks/Python.framework/Versions/3.7/lib/python3.7/tkinter/__init__.py\", line 1705, in __call__\n",
      "    return self.func(*args)\n",
      "  File \"/usr/local/lib/python3.7/site-packages/nltk/downloader.py\", line 1796, in _download\n",
      "    return self._download_threaded(*e)\n",
      "  File \"/usr/local/lib/python3.7/site-packages/nltk/downloader.py\", line 2082, in _download_threaded\n",
      "    assert self._download_msg_queue == []\n",
      "AssertionError\n"
     ]
    },
    {
     "data": {
      "text/plain": [
       "True"
      ]
     },
     "execution_count": 4,
     "metadata": {},
     "output_type": "execute_result"
    }
   ],
   "source": [
    "import nltk\n",
    "nltk.download()"
   ]
  },
  {
   "cell_type": "code",
   "execution_count": null,
   "metadata": {},
   "outputs": [],
   "source": []
  },
  {
   "cell_type": "code",
   "execution_count": null,
   "metadata": {},
   "outputs": [],
   "source": []
  }
 ],
 "metadata": {
  "kernelspec": {
   "display_name": "Python 3",
   "language": "python",
   "name": "python3"
  },
  "language_info": {
   "codemirror_mode": {
    "name": "ipython",
    "version": 3
   },
   "file_extension": ".py",
   "mimetype": "text/x-python",
   "name": "python",
   "nbconvert_exporter": "python",
   "pygments_lexer": "ipython3",
   "version": "3.7.2"
  }
 },
 "nbformat": 4,
 "nbformat_minor": 2
}
