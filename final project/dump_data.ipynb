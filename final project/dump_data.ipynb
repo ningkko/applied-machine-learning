{
 "cells": [
  {
   "cell_type": "code",
   "execution_count": 31,
   "metadata": {},
   "outputs": [],
   "source": [
    "import urllib.request\n",
    "import gzip\n",
    "import json\n",
    "\n",
    "DATA_URL = \"http://ciir.cs.umass.edu/downloads/poetry/poetry50k.dedup.jsonl.gz\"\n",
    "data_50k = []\n",
    "\n",
    "\n",
    "def read_data(target):\n",
    "    handle = urllib.request.urlopen(DATA_URL)\n",
    "    with gzip.GzipFile(fileobj=handle) as fp:\n",
    "        for line in fp:\n",
    "#             if len(data_50k) > 100:\n",
    "#                 break\n",
    "            content = json.loads(line)\n",
    "            if content[\"score\"]>0.65:\n",
    "                target.append(content[\"text\"]) \n",
    "                \n",
    "read_data(data_50k)"
   ]
  },
  {
   "cell_type": "code",
   "execution_count": 4,
   "metadata": {},
   "outputs": [],
   "source": [
    "# data_50k = data_50k[:50000]"
   ]
  },
  {
   "cell_type": "code",
   "execution_count": 5,
   "metadata": {},
   "outputs": [
    {
     "data": {
      "text/plain": [
       "'^Dedication\\nHere\\ts\\ta\\trhyme\\tfor\\tBarbara,\\nLaughing\\twhite\\tand\\tpink,\\nHere\\ts\\ta\\trhyme\\tfor\\tsmiling\\tTed,\\nAnd\\tone\\tfor\\tWink.\\nNow\\tDick\\ts\\tnot\\tmuch\\tat\\treading\\trhymes,\\nHe\\td\\trather\\tsit\\tand\\tfish.\\nWell,\\there\\ts\\ta\\tcouple\\tof\\tverses,\\tDick,\\nRead\\tthem\\tif\\tyou\\twish!\\n479468\\n'"
      ]
     },
     "execution_count": 5,
     "metadata": {},
     "output_type": "execute_result"
    }
   ],
   "source": [
    "# data_50k[0]"
   ]
  },
  {
   "cell_type": "code",
   "execution_count": 28,
   "metadata": {},
   "outputs": [],
   "source": [
    "data_1000=data_50k[:100]"
   ]
  },
  {
   "cell_type": "code",
   "execution_count": null,
   "metadata": {},
   "outputs": [],
   "source": [
    "import re\n",
    "line_break = re.compile(r\"(\\n|<br />)\")\n",
    "\n",
    "from collections import defaultdict, Counter\n",
    "\n",
    "\n",
    "def build_dictionary(database):\n",
    "    \n",
    "    dictionary = {}\n",
    "    sentence_length_dictionary={}\n",
    "    \n",
    "    punctuations = '''!()-+='[]{};:\"\\,<>./?@#$%^&*_~1234567890«»|'''\n",
    "    translator = str.maketrans('', '', punctuations)\n",
    "    prev_words=[\"\",\"\",\"\",\"\"]\n",
    "\n",
    "    for poem in database:\n",
    "        lines = re.split(line_break, poem)\n",
    "\n",
    "        # first lines are usually titles\n",
    "        for line in lines[1:]:    \n",
    "            line = line.replace(\"\\n\",\"\")\n",
    "            line = line.translate(translator)\n",
    "            newline = True          \n",
    "            index = 0\n",
    "            words = line.split('\\t')\n",
    "            for word in words:\n",
    "                #print(prev_words[::-1])\n",
    "                if word:\n",
    "                    if not word == \"I\":\n",
    "                        word = word.lower()\n",
    "\n",
    "                    if newline:\n",
    "                        if len(words) in sentence_length_dictionary:\n",
    "                            sentence_length_dictionary[len(words)] +=1\n",
    "                        else:\n",
    "                            sentence_length_dictionary[len(words)] = 1\n",
    "                        for _ in prev_words:\n",
    "                            _ = \"\"\n",
    "                        newline = False\n",
    "\n",
    "                    if index>=1 and not prev_words[0] == \"\":\n",
    "                        key = str((prev_words[0]))\n",
    "                        if key in dictionary:\n",
    "                            dictionary[key][\"frequency\"] += 1\n",
    "                            dictionary[key][\"dict\"][word] += 1\n",
    "                        else:\n",
    "                            counter = Counter()\n",
    "                            counter[word] +=1 \n",
    "                            dictionary[word] = {\n",
    "                                                \"frequency\":1,\n",
    "                                                \"dict\": counter\n",
    "                                                }\n",
    "\n",
    "                    if index >= 2 and not prev_words[1] == \"\":\n",
    "                        key = str((prev_words[1],prev_words[0]))\n",
    "                        if key in dictionary:\n",
    "                            dictionary[key][\"frequency\"] += 1\n",
    "                            dictionary[key][\"dict\"][word] += 1\n",
    "                        else:\n",
    "                            counter = Counter()\n",
    "                            counter[word] +=1 \n",
    "                            dictionary[key] = {\n",
    "                                                \"frequency\":1,\n",
    "                                                \"dict\": counter\n",
    "                                                }\n",
    "\n",
    "                    if index >= 3 and not prev_words[2] == \"\":\n",
    "                        key = str((prev_words[2], prev_words[1], prev_words[0]))\n",
    "                        if key in dictionary:\n",
    "                            dictionary[key][\"frequency\"] += 1\n",
    "                            dictionary[key][\"dict\"][word] += 1\n",
    "                        else:\n",
    "                            counter = Counter()\n",
    "                            counter[word] +=1 \n",
    "                            dictionary[key] = {\n",
    "                                                \"frequency\":1,\n",
    "                                                \"dict\": counter\n",
    "                                                }\n",
    "                                \n",
    "                             \n",
    "                    if index >= 4 and not prev_words[3] == \"\":\n",
    "                        key = str((prev_words[3], prev_words[2], prev_words[1], prev_words[0]))\n",
    "                        if key in dictionary:\n",
    "                            dictionary[key][\"frequency\"] += 1\n",
    "                            dictionary[key][\"dict\"][word] += 1\n",
    "                        else:\n",
    "                            counter = Counter()\n",
    "                            counter[word] +=1 \n",
    "                            dictionary[key] = {\n",
    "                                                \"frequency\":1,\n",
    "                                                \"dict\": counter\n",
    "                                                }\n",
    "\n",
    "                    \n",
    "                    for i in range(len(prev_words)-1)[::-1]:\n",
    "                        prev_words[i+1] = prev_words[i]\n",
    "                    prev_words[0] = word\n",
    "                    #print(\"slide: \", prev_words[::-1])\n",
    "                    \n",
    "                    index+=1\n",
    "                    \n",
    "    return dictionary, sentence_length_dictionary\n",
    "\n",
    "dictionary_50k,sl_50k = build_dictionary(data_50k)\n"
   ]
  },
  {
   "cell_type": "code",
   "execution_count": null,
   "metadata": {},
   "outputs": [],
   "source": [
    "with open('dictionary50k.json',\"w\") as out_file:  \n",
    "    json.dump(dictionary_50k, out_file, sort_keys=True, indent=4)\n",
    "\n",
    "with open('sentence_lengthes_50k.json',\"w\") as out_file:  \n",
    "    json.dump(sl_50k, out_file, sort_keys=True, indent=4)\n"
   ]
  },
  {
   "cell_type": "code",
   "execution_count": null,
   "metadata": {},
   "outputs": [],
   "source": []
  }
 ],
 "metadata": {
  "kernelspec": {
   "display_name": "Python 3",
   "language": "python",
   "name": "python3"
  },
  "language_info": {
   "codemirror_mode": {
    "name": "ipython",
    "version": 3
   },
   "file_extension": ".py",
   "mimetype": "text/x-python",
   "name": "python",
   "nbconvert_exporter": "python",
   "pygments_lexer": "ipython3",
   "version": "3.7.2"
  }
 },
 "nbformat": 4,
 "nbformat_minor": 2
}
