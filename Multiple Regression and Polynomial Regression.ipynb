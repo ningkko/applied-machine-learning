{
 "cells": [
  {
   "cell_type": "markdown",
   "metadata": {},
   "source": [
    "## Multiple Regression"
   ]
  },
  {
   "cell_type": "code",
   "execution_count": 154,
   "metadata": {},
   "outputs": [],
   "source": [
    "import numpy as np\n",
    "import pandas as pd\n",
    "import matplotlib.pyplot as plt\n",
    "from sklearn.model_selection import train_test_split\n",
    "from sklearn.linear_model import LinearRegression\n",
    "\n",
    "X = [[1, 6, 2], [1, 8, 1], [1, 10, 0], [1, 14, 2], [1, 18, 0]]\n",
    "y = [[7], [9], [13], [17.5], [18]]\n"
   ]
  },
  {
   "cell_type": "markdown",
   "metadata": {},
   "source": [
    "### Write simple linear regression in the form of the matrix\n",
    "To include multiple explanatory variables, we write them in a matrix.!"
   ]
  },
  {
   "cell_type": "code",
   "execution_count": 162,
   "metadata": {},
   "outputs": [
    {
     "data": {
      "text/plain": [
       "array([[1.1875    ],\n",
       "       [1.01041667],\n",
       "       [0.39583333]])"
      ]
     },
     "execution_count": 162,
     "metadata": {},
     "output_type": "execute_result"
    }
   ],
   "source": [
    "from numpy.linalg import inv\n",
    "from numpy import dot\n",
    "from numpy import transpose as trans\n",
    "\n",
    "dot(inv(dot(trans(X),X)),dot(trans(X),y))"
   ]
  },
  {
   "cell_type": "markdown",
   "metadata": {},
   "source": [
    "### Caulculate LSE using numpy"
   ]
  },
  {
   "cell_type": "code",
   "execution_count": 163,
   "metadata": {},
   "outputs": [],
   "source": [
    "# ## normalize\n",
    "# from sklearn import preprocessing\n",
    "# scaler=preprocessing.StandardScaler()\n",
    "# scaler.fit(X_train)\n",
    "# X_train=scaler.transform(X_train)\n",
    "\n",
    "# y_max=np.max(y)\n",
    "# y_min=np.min(y)\n",
    "# y_range=y_max-y_min\n",
    "# y_train=y_train/y_range\n"
   ]
  },
  {
   "cell_type": "code",
   "execution_count": 165,
   "metadata": {
    "scrolled": true
   },
   "outputs": [
    {
     "name": "stdout",
     "output_type": "stream",
     "text": [
      "[[1.1875    ]\n",
      " [1.01041667]\n",
      " [0.39583333]]\n"
     ]
    },
    {
     "name": "stderr",
     "output_type": "stream",
     "text": [
      "/usr/local/lib/python3.7/site-packages/ipykernel_launcher.py:2: FutureWarning: `rcond` parameter will change to the default of machine precision times ``max(M, N)`` where M and N are the input matrix dimensions.\n",
      "To use the future default and silence this warning we advise to pass `rcond=None`, to keep using the old, explicitly pass `rcond=-1`.\n",
      "  \n"
     ]
    }
   ],
   "source": [
    "from numpy.linalg import lstsq\n",
    "print( lstsq(X,y)[0] )"
   ]
  },
  {
   "cell_type": "markdown",
   "metadata": {},
   "source": [
    "### Predict with sk linear regression model"
   ]
  },
  {
   "cell_type": "code",
   "execution_count": 171,
   "metadata": {},
   "outputs": [
    {
     "name": "stdout",
     "output_type": "stream",
     "text": [
      "0.9153377914951989\n"
     ]
    }
   ],
   "source": [
    "lr_model=LinearRegression()\n",
    "lr_model.fit(X,y)\n",
    "print(lr_model.score(X,y))\n"
   ]
  },
  {
   "cell_type": "code",
   "execution_count": 175,
   "metadata": {},
   "outputs": [
    {
     "name": "stdout",
     "output_type": "stream",
     "text": [
      "Predicted: [8.04166667], Target: [11]\n",
      "R-squared: 0.77\n",
      "Predicted: [9.66666667], Target: [8.5]\n",
      "R-squared: 0.77\n",
      "Predicted: [11.29166667], Target: [15]\n",
      "R-squared: 0.77\n",
      "Predicted: [16.125], Target: [18]\n",
      "R-squared: 0.77\n",
      "Predicted: [19.375], Target: [11]\n",
      "R-squared: 0.77\n"
     ]
    }
   ],
   "source": [
    "X = [[6, 2], [8, 1], [10, 0], [14, 2], [18, 0]]\n",
    "y = [[7],[9],[13],[17.5],[18]]\n",
    "X_test = [[8, 2], [9, 0], [11, 2], [16, 2], [12, 0]]\n",
    "y_test = [[11],   [8.5],  [15],    [18],    [11]]\n",
    "lr_model.fit(X,y)\n",
    "predictions=lr_model.predict(X)\n",
    "for i, prediction in enumerate(predictions):\n",
    "    print ('Predicted: %s, Target: %s' % (prediction, y_test[i]))\n",
    "print ('R-squared: %.2f' % lr_model.score(X_test, y_test))"
   ]
  }
 ],
 "metadata": {
  "kernelspec": {
   "display_name": "Python 3",
   "language": "python",
   "name": "python3"
  },
  "language_info": {
   "codemirror_mode": {
    "name": "ipython",
    "version": 3
   },
   "file_extension": ".py",
   "mimetype": "text/x-python",
   "name": "python",
   "nbconvert_exporter": "python",
   "pygments_lexer": "ipython3",
   "version": "3.7.2"
  }
 },
 "nbformat": 4,
 "nbformat_minor": 2
}
