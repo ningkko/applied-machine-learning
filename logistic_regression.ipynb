{
 "cells": [
  {
   "cell_type": "markdown",
   "metadata": {},
   "source": [
    "# Logistic Regression\n",
    "## 1. Spam filtering"
   ]
  },
  {
   "cell_type": "code",
   "execution_count": 74,
   "metadata": {},
   "outputs": [
    {
     "name": "stdout",
     "output_type": "stream",
     "text": [
      "      0                                                  1\n",
      "0   ham  Go until jurong point, crazy.. Available only ...\n",
      "1   ham                      Ok lar... Joking wif u oni...\n",
      "2  spam  Free entry in 2 a wkly comp to win FA Cup fina...\n",
      "3   ham  U dun say so early hor... U c already then say...\n",
      "4   ham  Nah I don't think he goes to usf, he lives aro...\n",
      "Number of spam messages: 747\n",
      "Number of ham messages: 4825\n"
     ]
    }
   ],
   "source": [
    "import numpy as np\n",
    "import pandas as pd\n",
    "df = pd.read_csv('data/SMSSpamCollection/SMSSpamCollection', delimiter='\\t', header=None)\n",
    "print(df.head())\n",
    "print ('Number of spam messages:', df[df[0] == 'spam'][0].count())\n",
    "print ('Number of ham messages:', df[df[0] == 'ham'][0].count())"
   ]
  },
  {
   "cell_type": "code",
   "execution_count": 75,
   "metadata": {},
   "outputs": [],
   "source": [
    "from sklearn.feature_extraction.text import TfidfVectorizer\n",
    "from sklearn.linear_model.logistic import LogisticRegression\n",
    "from sklearn.model_selection import train_test_split, cross_val_score\n",
    "import sklearn.datasets as datasets\n",
    "import matplotlib.pyplot as plt\n",
    "from sklearn import metrics \n",
    "from sklearn.metrics import classification_report"
   ]
  },
  {
   "cell_type": "code",
   "execution_count": 76,
   "metadata": {},
   "outputs": [],
   "source": [
    "df = pd.read_csv('data/SMSSpamCollection/SMSSpamCollection', delimiter='\\t', header=None)\n",
    "X_train_raw, X_test_raw, y_train, y_test = train_test_split(df[1], df[0])"
   ]
  },
  {
   "cell_type": "code",
   "execution_count": 77,
   "metadata": {},
   "outputs": [],
   "source": [
    "vectorizer = TfidfVectorizer()\n",
    "X_train = vectorizer.fit_transform(X_train_raw)\n",
    "X_test = vectorizer.transform(X_test_raw)"
   ]
  },
  {
   "cell_type": "code",
   "execution_count": 78,
   "metadata": {},
   "outputs": [
    {
     "name": "stdout",
     "output_type": "stream",
     "text": [
      "Prediction: ham.\n",
      "Prediction: ham.\n",
      "Prediction: spam.\n",
      "Prediction: ham.\n",
      "Prediction: ham.\n",
      "2671    Yes. They replied my mail. I'm going to the ma...\n",
      "4       Nah I don't think he goes to usf, he lives aro...\n",
      "1007    Panasonic & BluetoothHdset FREE. Nokia FREE. M...\n",
      "2961                     Sir send to group mail check it.\n",
      "5362    I'm in inside office..still filling forms.don ...\n",
      "Name: 1, dtype: object\n"
     ]
    }
   ],
   "source": [
    "classifier = LogisticRegression()\n",
    "classifier.fit(X_train, y_train)\n",
    "predictions = classifier.predict(X_test)\n",
    "for prediction in predictions[:5]:\n",
    "    print ('Prediction: %s.' % prediction)\n",
    "    \n",
    "print (X_test_raw[:5])"
   ]
  },
  {
   "cell_type": "markdown",
   "metadata": {},
   "source": [
    "### Evaluate the prediction"
   ]
  },
  {
   "cell_type": "code",
   "execution_count": 79,
   "metadata": {},
   "outputs": [
    {
     "name": "stdout",
     "output_type": "stream",
     "text": [
      "Accuracy: 0.5\n"
     ]
    }
   ],
   "source": [
    "from sklearn.metrics import accuracy_score\n",
    "y_pred, y_true = [0, 1, 1, 0], [1, 1, 1, 1]\n",
    "print ('Accuracy:', accuracy_score(y_true, y_pred))"
   ]
  },
  {
   "cell_type": "markdown",
   "metadata": {},
   "source": [
    "## Logistic Regression from Scratch"
   ]
  },
  {
   "cell_type": "code",
   "execution_count": 80,
   "metadata": {},
   "outputs": [
    {
     "data": {
      "text/plain": [
       "['age', 'sex', 'bmi', 'bp', 's1', 's2', 's3', 's4', 's5', 's6']"
      ]
     },
     "execution_count": 80,
     "metadata": {},
     "output_type": "execute_result"
    }
   ],
   "source": [
    "diabetes = datasets.load_diabetes()\n",
    "diabetes[\"feature_names\"]"
   ]
  },
  {
   "cell_type": "code",
   "execution_count": 81,
   "metadata": {},
   "outputs": [],
   "source": [
    "X=diabetes.data[:, np.newaxis, 2]\n",
    "y=diabetes[\"target\"]\n",
    "X_train, X_test, y_train, y_test = train_test_split(X, y, test_size = 0.2)\n",
    "#print(X_train.shape,y_train.shape)\n",
    "\n",
    "N_train=y_train.shape[0]\n",
    "N_test=y_test.shape[0]\n"
   ]
  },
  {
   "cell_type": "code",
   "execution_count": 82,
   "metadata": {},
   "outputs": [],
   "source": [
    "def sigmoid(x): \n",
    "    return 1 / (1 + np.exp(-x))"
   ]
  },
  {
   "cell_type": "code",
   "execution_count": 83,
   "metadata": {},
   "outputs": [],
   "source": [
    "def single_logic_likelihood(xi,yi):\n",
    "    # calculates the logic likelihood for the ith x and y\n",
    "    predicted_value=sigmoid(xi)\n",
    "    \n",
    "    return yi*np.log(predicted_value)+(1-yi)*np.log(1-predicted_value)\n",
    "       "
   ]
  },
  {
   "cell_type": "code",
   "execution_count": 84,
   "metadata": {},
   "outputs": [],
   "source": [
    "\n",
    "def logic_likelihood(Xs,ys):\n",
    "    # calculates the su of logic likelihood\n",
    "    sum = 0\n",
    "    size=len(Xs)\n",
    "    for _ in range (size):\n",
    "        x=Xs[_]\n",
    "        y=ys[_]\n",
    "        sum+=single_logic_likelihood(x,y)\n",
    "    \n",
    "    return sum\n",
    " "
   ]
  },
  {
   "cell_type": "code",
   "execution_count": 85,
   "metadata": {},
   "outputs": [],
   "source": [
    "def logistic_regression(Xs, ys, learning_rate, iteration):\n",
    "    for _ in range (iteration):\n",
    "        predictions=sigmoid(Xs)\n",
    "        output_error=ys-predictions\n",
    "        gradient=np.dot(Xs.T, output_error)\n",
    "        if _ % 10000 == 0:\n",
    "            print (logic_likelihood(Xs, ys))                "
   ]
  },
  {
   "cell_type": "code",
   "execution_count": 86,
   "metadata": {},
   "outputs": [
    {
     "name": "stdout",
     "output_type": "stream",
     "text": [
      "[473.35238556]\n"
     ]
    }
   ],
   "source": [
    "weights = logistic_regression(X_train, y_train, 0.001,3000)"
   ]
  },
  {
   "cell_type": "code",
   "execution_count": 87,
   "metadata": {},
   "outputs": [],
   "source": [
    "def plot_training_data():\n",
    "    x = np.linspace(-0.1, 0.18, 500)\n",
    "    plt.plot(X_train, y_train, 'ro')\n",
    "    plt.plot(x,m*x+b);\n",
    "    plt.show()"
   ]
  },
  {
   "cell_type": "code",
   "execution_count": 88,
   "metadata": {},
   "outputs": [],
   "source": [
    "def plot_test_data():\n",
    "    x = np.linspace(-0.1, 0.18, 500)\n",
    "    plt.plot(X_test, y_test, 'ro')\n",
    "    plt.plot(x,m*x+b);\n",
    "    plt.show()"
   ]
  },
  {
   "cell_type": "code",
   "execution_count": null,
   "metadata": {},
   "outputs": [],
   "source": []
  },
  {
   "cell_type": "code",
   "execution_count": null,
   "metadata": {},
   "outputs": [],
   "source": []
  }
 ],
 "metadata": {
  "kernelspec": {
   "display_name": "Python 3",
   "language": "python",
   "name": "python3"
  },
  "language_info": {
   "codemirror_mode": {
    "name": "ipython",
    "version": 3
   },
   "file_extension": ".py",
   "mimetype": "text/x-python",
   "name": "python",
   "nbconvert_exporter": "python",
   "pygments_lexer": "ipython3",
   "version": "3.7.2"
  }
 },
 "nbformat": 4,
 "nbformat_minor": 2
}
