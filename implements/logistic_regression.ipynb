{
 "cells": [
  {
   "cell_type": "code",
   "execution_count": 29,
   "metadata": {},
   "outputs": [
    {
     "data": {
      "text/plain": [
       "['age', 'sex', 'bmi', 'bp', 's1', 's2', 's3', 's4', 's5', 's6']"
      ]
     },
     "execution_count": 29,
     "metadata": {},
     "output_type": "execute_result"
    }
   ],
   "source": [
    "import numpy as np\n",
    "import pandas as pd\n",
    "import sklearn.datasets as datasets\n",
    "import matplotlib.pyplot as plt\n",
    "from sklearn.linear_model import LogisticRegression\n",
    "from sklearn.model_selection import train_test_split\n",
    "from sklearn import metrics \n",
    "from sklearn.metrics import classification_report\n",
    "diabetes = datasets.load_diabetes()\n",
    "diabetes[\"feature_names\"]"
   ]
  },
  {
   "cell_type": "code",
   "execution_count": 49,
   "metadata": {},
   "outputs": [],
   "source": [
    "X=diabetes.data[:, np.newaxis, 2]\n",
    "y=diabetes[\"target\"]\n",
    "X_train, X_test, y_train, y_test = train_test_split(X, y, test_size = 0.2)\n",
    "#print(X_train.shape,y_train.shape)\n",
    "\n",
    "N_train=y_train.shape[0]\n",
    "N_test=y_test.shape[0]\n"
   ]
  },
  {
   "cell_type": "code",
   "execution_count": null,
   "metadata": {},
   "outputs": [],
   "source": []
  },
  {
   "cell_type": "code",
   "execution_count": 50,
   "metadata": {},
   "outputs": [],
   "source": [
    "def sigmoid(x): \n",
    "    return 1 / (1 + np.exp(-x))"
   ]
  },
  {
   "cell_type": "code",
   "execution_count": 58,
   "metadata": {},
   "outputs": [],
   "source": [
    "def single_logic_likelihood(xi,yi):\n",
    "    # calculates the logic likelihood for the ith x and y\n",
    "    predicted_value=sigmoid(xi)\n",
    "    \n",
    "    return yi*np.log(predicted_value)+(1-yi)*np.log(1-predicted_value)\n",
    "       "
   ]
  },
  {
   "cell_type": "code",
   "execution_count": 59,
   "metadata": {},
   "outputs": [],
   "source": [
    "\n",
    "def logic_likelihood(Xs,ys):\n",
    "    # calculates the su of logic likelihood\n",
    "    sum = 0\n",
    "    size=len(Xs)\n",
    "    for _ in range (size):\n",
    "        x=Xs[_]\n",
    "        y=ys[_]\n",
    "        sum+=single_logic_likelihood(x,y)\n",
    "    \n",
    "    return sum\n",
    " "
   ]
  },
  {
   "cell_type": "code",
   "execution_count": 62,
   "metadata": {},
   "outputs": [],
   "source": [
    "def logistic_regression(Xs, ys, learning_rate, iteration):\n",
    "\n",
    "    \n",
    "    for _ in range (iteration):\n",
    "\n",
    "        predictions=sigmoid(Xs)\n",
    "        \n",
    "        output_error=ys-predictions\n",
    "        \n",
    "        gradient=np.dot(Xs.T, output_error)\n",
    "        \n",
    "        if _ % 10000 == 0:\n",
    "            print (logic_likelihood(Xs, ys))    \n",
    "            \n",
    "            \n",
    "            "
   ]
  },
  {
   "cell_type": "code",
   "execution_count": 63,
   "metadata": {},
   "outputs": [
    {
     "name": "stdout",
     "output_type": "stream",
     "text": [
      "[411.76337809]\n"
     ]
    }
   ],
   "source": [
    "weights = logistic_regression(X_train, y_train, 0.001,3000)\n"
   ]
  },
  {
   "cell_type": "code",
   "execution_count": 64,
   "metadata": {},
   "outputs": [],
   "source": [
    "def plot_training_data():\n",
    "    x = np.linspace(-0.1, 0.18, 500)\n",
    "    plt.plot(X_train, y_train, 'ro')\n",
    "    plt.plot(x,m*x+b);\n",
    "    plt.show()"
   ]
  },
  {
   "cell_type": "code",
   "execution_count": 66,
   "metadata": {},
   "outputs": [],
   "source": [
    "def plot_test_data():\n",
    "    x = np.linspace(-0.1, 0.18, 500)\n",
    "    plt.plot(X_test, y_test, 'ro')\n",
    "    plt.plot(x,m*x+b);\n",
    "    plt.show()"
   ]
  },
  {
   "cell_type": "code",
   "execution_count": null,
   "metadata": {},
   "outputs": [],
   "source": [
    "\n"
   ]
  },
  {
   "cell_type": "code",
   "execution_count": null,
   "metadata": {},
   "outputs": [],
   "source": []
  },
  {
   "cell_type": "code",
   "execution_count": null,
   "metadata": {},
   "outputs": [],
   "source": []
  },
  {
   "cell_type": "code",
   "execution_count": null,
   "metadata": {},
   "outputs": [],
   "source": []
  }
 ],
 "metadata": {
  "kernelspec": {
   "display_name": "Python 3",
   "language": "python",
   "name": "python3"
  },
  "language_info": {
   "codemirror_mode": {
    "name": "ipython",
    "version": 3
   },
   "file_extension": ".py",
   "mimetype": "text/x-python",
   "name": "python",
   "nbconvert_exporter": "python",
   "pygments_lexer": "ipython3",
   "version": "3.7.2"
  }
 },
 "nbformat": 4,
 "nbformat_minor": 2
}
