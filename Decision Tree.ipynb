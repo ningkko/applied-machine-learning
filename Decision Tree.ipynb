{
 "cells": [
  {
   "cell_type": "markdown",
   "metadata": {},
   "source": [
    "#### https://www.benkuhn.net/tree-imp"
   ]
  },
  {
   "cell_type": "code",
   "execution_count": 227,
   "metadata": {},
   "outputs": [],
   "source": [
    "\n",
    "\n",
    "def round_to_nearest_zero_point_five(inp):\n",
    "    return (inp*2).round()/2\n",
    "\n",
    "def round_to_nearest_zero_point_two_five(inp):\n",
    "    return (inp*4).round()/4"
   ]
  },
  {
   "cell_type": "code",
   "execution_count": 228,
   "metadata": {
    "scrolled": true
   },
   "outputs": [
    {
     "name": "stdout",
     "output_type": "stream",
     "text": [
      "Training data:\n",
      " [[5.   2.25 3.25 1.   1.  ]\n",
      " [5.   3.   1.5  0.25 0.  ]\n",
      " [6.25 2.25 4.5  1.25 1.  ]\n",
      " [5.75 2.5  4.   1.25 1.  ]\n",
      " [6.25 3.   4.25 1.25 1.  ]\n",
      " [4.75 3.25 1.25 0.25 0.  ]\n",
      " [4.5  3.5  1.5  0.25 0.  ]\n",
      " [5.   2.5  3.   1.   1.  ]\n",
      " [4.75 3.5  1.5  0.25 0.  ]\n",
      " [8.   3.75 6.5  2.   2.  ]\n",
      " [5.   3.5  1.5  0.25 0.  ]\n",
      " [5.   3.75 1.5  0.5  0.  ]\n",
      " [5.5  3.   3.5  1.25 1.  ]\n",
      " [6.5  3.   5.5  1.75 2.  ]\n",
      " [5.5  4.   1.75 0.5  0.  ]\n",
      " [7.   3.25 4.75 1.5  1.  ]\n",
      " [5.75 2.75 5.   2.5  2.  ]\n",
      " [7.75 2.5  7.   2.25 2.  ]\n",
      " [5.5  2.5  4.   1.25 1.  ]\n",
      " [6.   3.25 4.75 1.75 1.  ]\n",
      " [5.   3.5  1.5  0.   0.  ]\n",
      " [4.5  2.25 1.25 0.25 0.  ]\n",
      " [6.25 2.75 5.   1.5  2.  ]\n",
      " [4.5  3.   1.5  0.25 0.  ]\n",
      " [5.   3.5  1.5  0.25 0.  ]\n",
      " [7.25 3.   5.75 1.5  2.  ]\n",
      " [6.   3.5  4.5  1.5  1.  ]\n",
      " [6.25 2.25 4.5  1.5  1.  ]\n",
      " [7.5  2.75 6.   2.   2.  ]\n",
      " [6.75 3.   5.5  2.   2.  ]\n",
      " [6.5  2.75 5.5  2.25 2.  ]\n",
      " [5.75 2.5  5.   2.   2.  ]\n",
      " [5.   3.5  1.5  0.5  0.  ]\n",
      " [5.   3.75 1.5  0.25 0.  ]\n",
      " [6.75 2.75 4.75 1.5  1.  ]\n",
      " [5.25 2.75 4.   1.5  1.  ]\n",
      " [5.   3.75 1.5  0.25 0.  ]\n",
      " [5.5  2.5  4.   1.   1.  ]\n",
      " [6.   3.   5.   1.75 2.  ]\n",
      " [6.5  3.   4.5  1.25 1.  ]\n",
      " [6.5  2.75 5.5  2.   2.  ]\n",
      " [4.25 3.   1.   0.   0.  ]\n",
      " [7.25 3.5  6.   2.5  2.  ]\n",
      " [5.   3.5  1.5  0.25 0.  ]\n",
      " [6.25 2.5  5.   1.5  1.  ]\n",
      " [4.5  3.25 1.25 0.25 0.  ]\n",
      " [7.5  3.   6.5  2.   2.  ]\n",
      " [6.5  3.25 4.5  1.5  1.  ]\n",
      " [5.   3.75 2.   0.5  0.  ]\n",
      " [6.5  3.25 5.   2.   2.  ]\n",
      " [6.25 2.75 5.   1.75 2.  ]\n",
      " [5.   3.5  1.25 0.25 0.  ]\n",
      " [5.25 3.5  1.5  0.25 0.  ]\n",
      " [6.5  2.75 5.25 2.   2.  ]\n",
      " [5.75 4.   1.25 0.25 0.  ]\n",
      " [5.75 4.5  1.5  0.5  0.  ]\n",
      " [4.5  3.25 1.5  0.25 0.  ]\n",
      " [7.   3.   5.5  2.   2.  ]\n",
      " [6.25 3.   5.5  1.75 2.  ]\n",
      " [5.5  3.5  1.25 0.25 0.  ]\n",
      " [5.75 2.5  3.5  1.   1.  ]\n",
      " [5.   3.25 1.5  0.25 0.  ]\n",
      " [6.   2.25 4.   1.   1.  ]\n",
      " [5.   3.   1.5  0.25 0.  ]\n",
      " [5.   2.   3.5  1.   1.  ]\n",
      " [6.5  3.   4.5  1.5  1.  ]\n",
      " [5.75 2.75 4.5  1.25 1.  ]\n",
      " [5.5  2.5  4.5  1.25 1.  ]\n",
      " [5.5  2.25 4.   1.25 1.  ]\n",
      " [4.75 3.   1.5  0.25 0.  ]\n",
      " [6.   3.   4.5  1.5  1.  ]\n",
      " [5.   3.   1.5  0.25 0.  ]\n",
      " [7.   3.   5.   1.5  1.  ]\n",
      " [6.75 2.5  5.75 1.75 2.  ]\n",
      " [5.25 3.75 1.5  0.25 0.  ]\n",
      " [5.25 4.   1.5  0.   0.  ]\n",
      " [5.   3.5  1.5  0.5  0.  ]\n",
      " [4.5  3.5  1.   0.25 0.  ]\n",
      " [7.75 3.75 6.75 2.25 2.  ]\n",
      " [7.25 3.   6.25 1.75 2.  ]\n",
      " [4.5  3.   1.5  0.25 0.  ]\n",
      " [5.5  2.5  3.75 1.   1.  ]\n",
      " [5.75 2.75 4.   1.25 1.  ]\n",
      " [6.75 3.25 5.75 2.   2.  ]\n",
      " [5.75 2.75 4.   1.   1.  ]\n",
      " [5.5  3.75 1.5  0.25 0.  ]\n",
      " [5.   3.5  1.5  0.25 0.  ]\n",
      " [6.   2.75 5.   1.5  1.  ]\n",
      " [5.75 2.75 4.   1.25 1.  ]\n",
      " [6.   2.75 4.75 1.25 1.  ]\n",
      " [5.   3.25 1.75 0.5  0.  ]\n",
      " [5.5  3.   4.   1.25 1.  ]\n",
      " [5.5  3.   4.5  1.5  1.  ]\n",
      " [5.5  4.   1.25 0.5  0.  ]\n",
      " [6.75 3.25 5.75 2.5  2.  ]\n",
      " [5.   2.5  4.5  1.75 2.  ]\n",
      " [6.25 3.5  5.5  2.25 2.  ]\n",
      " [5.5  2.5  3.75 1.   1.  ]\n",
      " [7.75 2.75 6.75 2.   2.  ]\n",
      " [5.5  3.5  1.5  0.5  0.  ]\n",
      " [6.75 3.   5.   1.75 1.  ]\n",
      " [5.5  4.25 1.5  0.25 0.  ]\n",
      " [5.   3.25 1.25 0.25 0.  ]\n",
      " [4.75 3.   1.5  0.25 0.  ]\n",
      " [5.75 2.75 5.   2.   2.  ]\n",
      " [6.   3.   4.25 1.5  1.  ]\n",
      " [7.   3.   6.   2.   2.  ]\n",
      " [5.   2.5  3.25 1.   1.  ]\n",
      " [6.25 2.5  5.   2.   2.  ]\n",
      " [5.5  3.   4.5  1.5  1.  ]\n",
      " [7.75 3.   6.   2.25 2.  ]\n",
      " [5.5  3.5  1.75 0.25 0.  ]]\n",
      "Testing data:\n",
      " [[5.75 3.   4.25 1.25 1.  ]\n",
      " [6.75 3.   4.5  1.5  1.  ]\n",
      " [4.75 3.25 1.5  0.25 0.  ]\n",
      " [6.5  2.75 4.5  1.5  1.  ]\n",
      " [6.   2.5  5.5  1.5  2.  ]\n",
      " [6.25 3.25 6.   2.5  2.  ]\n",
      " [4.75 3.5  2.   0.25 0.  ]\n",
      " [5.   3.5  1.5  0.25 0.  ]\n",
      " [6.5  3.   5.5  1.75 2.  ]\n",
      " [7.   3.25 5.75 2.25 2.  ]\n",
      " [6.75 3.25 6.   2.25 2.  ]\n",
      " [4.5  3.   1.25 0.25 0.  ]\n",
      " [6.25 3.5  5.5  2.5  2.  ]\n",
      " [6.   3.   4.75 1.5  1.  ]\n",
      " [7.   3.   5.   2.25 2.  ]\n",
      " [6.5  3.   4.25 1.25 1.  ]\n",
      " [6.   3.   4.75 1.75 2.  ]\n",
      " [5.25 3.5  1.5  0.25 0.  ]\n",
      " [6.25 3.25 4.75 1.5  1.  ]\n",
      " [7.25 3.25 6.   1.75 2.  ]\n",
      " [5.   3.   1.5  0.   0.  ]\n",
      " [5.75 3.75 1.75 0.25 0.  ]\n",
      " [6.5  3.   5.75 2.25 2.  ]\n",
      " [4.75 3.   1.5  0.   0.  ]\n",
      " [6.   2.25 5.   1.5  2.  ]\n",
      " [6.25 2.75 4.75 1.75 2.  ]\n",
      " [6.   3.   4.5  1.5  1.  ]\n",
      " [6.   2.75 4.   1.25 1.  ]\n",
      " [6.5  3.   5.25 2.   2.  ]\n",
      " [6.   3.   5.   1.75 2.  ]\n",
      " [5.5  2.75 4.25 1.25 1.  ]\n",
      " [6.75 3.   4.75 1.5  1.  ]\n",
      " [5.5  2.75 5.   2.   2.  ]\n",
      " [6.5  3.25 5.25 2.25 2.  ]\n",
      " [6.75 3.   5.5  2.5  2.  ]\n",
      " [6.75 3.   5.25 2.25 2.  ]\n",
      " [5.75 2.75 5.   2.   2.  ]\n",
      " [5.75 3.   4.25 1.25 1.  ]]\n"
     ]
    }
   ],
   "source": [
    "from sklearn.model_selection import train_test_split\n",
    "from sklearn import preprocessing\n",
    "from sklearn import datasets\n",
    "import numpy as np\n",
    "\n",
    "iris=datasets.load_iris()\n",
    "X = iris.data\n",
    "y = iris.target.reshape(1,150)\n",
    "\n",
    "data = np.concatenate((X, y.T), axis=1)\n",
    "\n",
    "#data = data.round()\n",
    "#data = round_to_nearest_zero_point_five(data)\n",
    "data = round_to_nearest_zero_point_two_five(data)\n",
    "\n",
    "\n",
    "data_train, data_test = train_test_split(data, test_size=0.25, random_state=33)\n",
    "print(\"Training data:\\n\", data_train)\n",
    "print(\"Testing data:\\n\", data_test)"
   ]
  },
  {
   "cell_type": "code",
   "execution_count": 229,
   "metadata": {},
   "outputs": [
    {
     "data": {
      "text/plain": [
       "['sepal length (cm)',\n",
       " 'sepal width (cm)',\n",
       " 'petal length (cm)',\n",
       " 'petal width (cm)']"
      ]
     },
     "execution_count": 229,
     "metadata": {},
     "output_type": "execute_result"
    }
   ],
   "source": [
    "header = iris.feature_names\n",
    "header"
   ]
  },
  {
   "cell_type": "code",
   "execution_count": 230,
   "metadata": {},
   "outputs": [],
   "source": [
    "def unique_values(rows, col):\n",
    "    \"\"\"Find the unique values for a column in a dataset.\"\"\"\n",
    "    return set([row[col] for row in rows])"
   ]
  },
  {
   "cell_type": "code",
   "execution_count": 231,
   "metadata": {},
   "outputs": [
    {
     "data": {
      "text/plain": [
       "{2.0, 2.25, 2.5, 2.75, 3.0, 3.25, 3.5, 3.75, 4.0, 4.25, 4.5}"
      ]
     },
     "execution_count": 231,
     "metadata": {},
     "output_type": "execute_result"
    }
   ],
   "source": [
    "unique_values(data_train, 1)"
   ]
  },
  {
   "cell_type": "code",
   "execution_count": 232,
   "metadata": {},
   "outputs": [],
   "source": [
    "def class_counts(rows):\n",
    "    \"\"\"Counts the number of each type of example in a dataset.\"\"\"\n",
    "    counts = {}  # a dictionary of label -> count.\n",
    "    for row in rows:\n",
    "        # in our dataset format, the label is always the last column\n",
    "        label = row[-1]\n",
    "        if label not in counts:\n",
    "            counts[label] = 0\n",
    "        counts[label] += 1\n",
    "    return counts"
   ]
  },
  {
   "cell_type": "code",
   "execution_count": 233,
   "metadata": {},
   "outputs": [],
   "source": [
    "class Question:\n",
    "    \"\"\"A Question is used to partition a dataset.\n",
    "\n",
    "    This class just records a 'column number' (e.g., 0 for Color) and a\n",
    "    'column value' (e.g., Green). The 'match' method is used to compare\n",
    "    the feature value in an example to the feature value stored in the\n",
    "    question. See the demo below.\n",
    "    \"\"\"\n",
    "\n",
    "    def __init__(self, column, value):\n",
    "        self.column = column\n",
    "        self.value = value\n",
    "\n",
    "    def match(self, example):\n",
    "        # Compare the feature value in an example to the\n",
    "        # feature value in this question.\n",
    "        val = example[self.column]\n",
    "        return val >= self.value\n",
    "\n",
    "    def __repr__(self):\n",
    "        # This is just a helper method to print\n",
    "        # the question in a readable format.\n",
    "        condition = \">=\"\n",
    "        return \"Is %s %s %s?\" % (\n",
    "            header[self.column], condition, str(self.value))"
   ]
  },
  {
   "cell_type": "code",
   "execution_count": 234,
   "metadata": {},
   "outputs": [
    {
     "data": {
      "text/plain": [
       "Is sepal width (cm) >= 2?"
      ]
     },
     "execution_count": 234,
     "metadata": {},
     "output_type": "execute_result"
    }
   ],
   "source": [
    "Question(1, 2)\n"
   ]
  },
  {
   "cell_type": "code",
   "execution_count": 235,
   "metadata": {},
   "outputs": [],
   "source": [
    "def partition(rows, question):\n",
    "    \"\"\"Partitions a dataset.\n",
    "\n",
    "    For each row in the dataset, check if it matches the question. If\n",
    "    so, add it to 'true rows', otherwise, add it to 'false rows'.\n",
    "    \"\"\"\n",
    "    true_rows, false_rows = [], []\n",
    "    for row in rows:\n",
    "        if question.match(row):\n",
    "            true_rows.append(row)\n",
    "        else:\n",
    "            false_rows.append(row)\n",
    "    return true_rows, false_rows"
   ]
  },
  {
   "cell_type": "code",
   "execution_count": 236,
   "metadata": {},
   "outputs": [],
   "source": [
    "true_rows, false_rows = partition(data_train, Question(0, 1))"
   ]
  },
  {
   "cell_type": "code",
   "execution_count": 237,
   "metadata": {},
   "outputs": [
    {
     "data": {
      "text/plain": [
       "[array([5.  , 2.25, 3.25, 1.  , 1.  ]),\n",
       " array([5.  , 3.  , 1.5 , 0.25, 0.  ]),\n",
       " array([6.25, 2.25, 4.5 , 1.25, 1.  ]),\n",
       " array([5.75, 2.5 , 4.  , 1.25, 1.  ]),\n",
       " array([6.25, 3.  , 4.25, 1.25, 1.  ]),\n",
       " array([4.75, 3.25, 1.25, 0.25, 0.  ]),\n",
       " array([4.5 , 3.5 , 1.5 , 0.25, 0.  ]),\n",
       " array([5. , 2.5, 3. , 1. , 1. ]),\n",
       " array([4.75, 3.5 , 1.5 , 0.25, 0.  ]),\n",
       " array([8.  , 3.75, 6.5 , 2.  , 2.  ]),\n",
       " array([5.  , 3.5 , 1.5 , 0.25, 0.  ]),\n",
       " array([5.  , 3.75, 1.5 , 0.5 , 0.  ]),\n",
       " array([5.5 , 3.  , 3.5 , 1.25, 1.  ]),\n",
       " array([6.5 , 3.  , 5.5 , 1.75, 2.  ]),\n",
       " array([5.5 , 4.  , 1.75, 0.5 , 0.  ]),\n",
       " array([7.  , 3.25, 4.75, 1.5 , 1.  ]),\n",
       " array([5.75, 2.75, 5.  , 2.5 , 2.  ]),\n",
       " array([7.75, 2.5 , 7.  , 2.25, 2.  ]),\n",
       " array([5.5 , 2.5 , 4.  , 1.25, 1.  ]),\n",
       " array([6.  , 3.25, 4.75, 1.75, 1.  ]),\n",
       " array([5. , 3.5, 1.5, 0. , 0. ]),\n",
       " array([4.5 , 2.25, 1.25, 0.25, 0.  ]),\n",
       " array([6.25, 2.75, 5.  , 1.5 , 2.  ]),\n",
       " array([4.5 , 3.  , 1.5 , 0.25, 0.  ]),\n",
       " array([5.  , 3.5 , 1.5 , 0.25, 0.  ]),\n",
       " array([7.25, 3.  , 5.75, 1.5 , 2.  ]),\n",
       " array([6. , 3.5, 4.5, 1.5, 1. ]),\n",
       " array([6.25, 2.25, 4.5 , 1.5 , 1.  ]),\n",
       " array([7.5 , 2.75, 6.  , 2.  , 2.  ]),\n",
       " array([6.75, 3.  , 5.5 , 2.  , 2.  ]),\n",
       " array([6.5 , 2.75, 5.5 , 2.25, 2.  ]),\n",
       " array([5.75, 2.5 , 5.  , 2.  , 2.  ]),\n",
       " array([5. , 3.5, 1.5, 0.5, 0. ]),\n",
       " array([5.  , 3.75, 1.5 , 0.25, 0.  ]),\n",
       " array([6.75, 2.75, 4.75, 1.5 , 1.  ]),\n",
       " array([5.25, 2.75, 4.  , 1.5 , 1.  ]),\n",
       " array([5.  , 3.75, 1.5 , 0.25, 0.  ]),\n",
       " array([5.5, 2.5, 4. , 1. , 1. ]),\n",
       " array([6.  , 3.  , 5.  , 1.75, 2.  ]),\n",
       " array([6.5 , 3.  , 4.5 , 1.25, 1.  ]),\n",
       " array([6.5 , 2.75, 5.5 , 2.  , 2.  ]),\n",
       " array([4.25, 3.  , 1.  , 0.  , 0.  ]),\n",
       " array([7.25, 3.5 , 6.  , 2.5 , 2.  ]),\n",
       " array([5.  , 3.5 , 1.5 , 0.25, 0.  ]),\n",
       " array([6.25, 2.5 , 5.  , 1.5 , 1.  ]),\n",
       " array([4.5 , 3.25, 1.25, 0.25, 0.  ]),\n",
       " array([7.5, 3. , 6.5, 2. , 2. ]),\n",
       " array([6.5 , 3.25, 4.5 , 1.5 , 1.  ]),\n",
       " array([5.  , 3.75, 2.  , 0.5 , 0.  ]),\n",
       " array([6.5 , 3.25, 5.  , 2.  , 2.  ]),\n",
       " array([6.25, 2.75, 5.  , 1.75, 2.  ]),\n",
       " array([5.  , 3.5 , 1.25, 0.25, 0.  ]),\n",
       " array([5.25, 3.5 , 1.5 , 0.25, 0.  ]),\n",
       " array([6.5 , 2.75, 5.25, 2.  , 2.  ]),\n",
       " array([5.75, 4.  , 1.25, 0.25, 0.  ]),\n",
       " array([5.75, 4.5 , 1.5 , 0.5 , 0.  ]),\n",
       " array([4.5 , 3.25, 1.5 , 0.25, 0.  ]),\n",
       " array([7. , 3. , 5.5, 2. , 2. ]),\n",
       " array([6.25, 3.  , 5.5 , 1.75, 2.  ]),\n",
       " array([5.5 , 3.5 , 1.25, 0.25, 0.  ]),\n",
       " array([5.75, 2.5 , 3.5 , 1.  , 1.  ]),\n",
       " array([5.  , 3.25, 1.5 , 0.25, 0.  ]),\n",
       " array([6.  , 2.25, 4.  , 1.  , 1.  ]),\n",
       " array([5.  , 3.  , 1.5 , 0.25, 0.  ]),\n",
       " array([5. , 2. , 3.5, 1. , 1. ]),\n",
       " array([6.5, 3. , 4.5, 1.5, 1. ]),\n",
       " array([5.75, 2.75, 4.5 , 1.25, 1.  ]),\n",
       " array([5.5 , 2.5 , 4.5 , 1.25, 1.  ]),\n",
       " array([5.5 , 2.25, 4.  , 1.25, 1.  ]),\n",
       " array([4.75, 3.  , 1.5 , 0.25, 0.  ]),\n",
       " array([6. , 3. , 4.5, 1.5, 1. ]),\n",
       " array([5.  , 3.  , 1.5 , 0.25, 0.  ]),\n",
       " array([7. , 3. , 5. , 1.5, 1. ]),\n",
       " array([6.75, 2.5 , 5.75, 1.75, 2.  ]),\n",
       " array([5.25, 3.75, 1.5 , 0.25, 0.  ]),\n",
       " array([5.25, 4.  , 1.5 , 0.  , 0.  ]),\n",
       " array([5. , 3.5, 1.5, 0.5, 0. ]),\n",
       " array([4.5 , 3.5 , 1.  , 0.25, 0.  ]),\n",
       " array([7.75, 3.75, 6.75, 2.25, 2.  ]),\n",
       " array([7.25, 3.  , 6.25, 1.75, 2.  ]),\n",
       " array([4.5 , 3.  , 1.5 , 0.25, 0.  ]),\n",
       " array([5.5 , 2.5 , 3.75, 1.  , 1.  ]),\n",
       " array([5.75, 2.75, 4.  , 1.25, 1.  ]),\n",
       " array([6.75, 3.25, 5.75, 2.  , 2.  ]),\n",
       " array([5.75, 2.75, 4.  , 1.  , 1.  ]),\n",
       " array([5.5 , 3.75, 1.5 , 0.25, 0.  ]),\n",
       " array([5.  , 3.5 , 1.5 , 0.25, 0.  ]),\n",
       " array([6.  , 2.75, 5.  , 1.5 , 1.  ]),\n",
       " array([5.75, 2.75, 4.  , 1.25, 1.  ]),\n",
       " array([6.  , 2.75, 4.75, 1.25, 1.  ]),\n",
       " array([5.  , 3.25, 1.75, 0.5 , 0.  ]),\n",
       " array([5.5 , 3.  , 4.  , 1.25, 1.  ]),\n",
       " array([5.5, 3. , 4.5, 1.5, 1. ]),\n",
       " array([5.5 , 4.  , 1.25, 0.5 , 0.  ]),\n",
       " array([6.75, 3.25, 5.75, 2.5 , 2.  ]),\n",
       " array([5.  , 2.5 , 4.5 , 1.75, 2.  ]),\n",
       " array([6.25, 3.5 , 5.5 , 2.25, 2.  ]),\n",
       " array([5.5 , 2.5 , 3.75, 1.  , 1.  ]),\n",
       " array([7.75, 2.75, 6.75, 2.  , 2.  ]),\n",
       " array([5.5, 3.5, 1.5, 0.5, 0. ]),\n",
       " array([6.75, 3.  , 5.  , 1.75, 1.  ]),\n",
       " array([5.5 , 4.25, 1.5 , 0.25, 0.  ]),\n",
       " array([5.  , 3.25, 1.25, 0.25, 0.  ]),\n",
       " array([4.75, 3.  , 1.5 , 0.25, 0.  ]),\n",
       " array([5.75, 2.75, 5.  , 2.  , 2.  ]),\n",
       " array([6.  , 3.  , 4.25, 1.5 , 1.  ]),\n",
       " array([7., 3., 6., 2., 2.]),\n",
       " array([5.  , 2.5 , 3.25, 1.  , 1.  ]),\n",
       " array([6.25, 2.5 , 5.  , 2.  , 2.  ]),\n",
       " array([5.5, 3. , 4.5, 1.5, 1. ]),\n",
       " array([7.75, 3.  , 6.  , 2.25, 2.  ]),\n",
       " array([5.5 , 3.5 , 1.75, 0.25, 0.  ])]"
      ]
     },
     "execution_count": 237,
     "metadata": {},
     "output_type": "execute_result"
    }
   ],
   "source": [
    "true_rows"
   ]
  },
  {
   "cell_type": "code",
   "execution_count": 238,
   "metadata": {},
   "outputs": [
    {
     "data": {
      "text/plain": [
       "[]"
      ]
     },
     "execution_count": 238,
     "metadata": {},
     "output_type": "execute_result"
    }
   ],
   "source": [
    "false_rows"
   ]
  },
  {
   "cell_type": "code",
   "execution_count": 239,
   "metadata": {},
   "outputs": [],
   "source": [
    "def gini(rows):\n",
    "    \"\"\"Calculate the Gini Impurity for a list of rows.\n",
    "\n",
    "    There are a few different ways to do this, I thought this one was\n",
    "    the most concise. See:\n",
    "    https://en.wikipedia.org/wiki/Decision_tree_learning#Gini_impurity\n",
    "    \"\"\"\n",
    "    counts = class_counts(rows)\n",
    "    impurity = 1\n",
    "    for lbl in counts:\n",
    "        prob_of_lbl = counts[lbl] / float(len(rows))\n",
    "        impurity -= prob_of_lbl**2\n",
    "    return impurity"
   ]
  },
  {
   "cell_type": "code",
   "execution_count": 240,
   "metadata": {},
   "outputs": [
    {
     "data": {
      "text/plain": [
       "0.6399999999999999"
      ]
     },
     "execution_count": 240,
     "metadata": {},
     "output_type": "execute_result"
    }
   ],
   "source": [
    "gini([[1],[2],[2],[1],[3]])"
   ]
  },
  {
   "cell_type": "code",
   "execution_count": 241,
   "metadata": {},
   "outputs": [],
   "source": [
    "def info_gain(left, right, current_uncertainty):\n",
    "    \"\"\"Information Gain.\n",
    "\n",
    "    The uncertainty of the starting node, minus the weighted impurity of\n",
    "    two child nodes.\n",
    "    \"\"\"\n",
    "    p = float(len(left)) / (len(left) + len(right))\n",
    "    return current_uncertainty - p * gini(left) - (1 - p) * gini(right)"
   ]
  },
  {
   "cell_type": "code",
   "execution_count": 242,
   "metadata": {},
   "outputs": [
    {
     "data": {
      "text/plain": [
       "0.07423013848396498"
      ]
     },
     "execution_count": 242,
     "metadata": {},
     "output_type": "execute_result"
    }
   ],
   "source": [
    "current_uncertainty = gini(data_train)\n",
    "true_rows, false_rows = partition(data_train, Question(0,7))\n",
    "info_gain(true_rows, false_rows, current_uncertainty)"
   ]
  },
  {
   "cell_type": "code",
   "execution_count": 243,
   "metadata": {},
   "outputs": [],
   "source": [
    "def find_best_split(rows):\n",
    "    \"\"\"Find the best question to ask by iterating over every feature / value\n",
    "    and calculating the information gain.\"\"\"\n",
    "    best_gain = 0  # keep track of the best information gain\n",
    "    best_question = None  # keep train of the feature / value that produced it\n",
    "    current_uncertainty = gini(rows)\n",
    "    n_features = len(rows[0]) - 1  # number of columns\n",
    "\n",
    "    for col in range(n_features):  # for each feature\n",
    "\n",
    "        values = set([row[col] for row in rows])  # unique values in the column\n",
    "\n",
    "        for val in values:  # for each value\n",
    "\n",
    "            question = Question(col, val)\n",
    "\n",
    "            # try splitting the dataset\n",
    "            true_rows, false_rows = partition(rows, question)\n",
    "\n",
    "            # Skip this split if it doesn't divide the\n",
    "            # dataset.\n",
    "            if len(true_rows) == 0 or len(false_rows) == 0:\n",
    "                continue\n",
    "\n",
    "            # Calculate the information gain from this split\n",
    "            gain = info_gain(true_rows, false_rows, current_uncertainty)\n",
    "\n",
    "            # You actually can use '>' instead of '>=' here\n",
    "            # but I wanted the tree to look a certain way for our\n",
    "            # toy dataset.\n",
    "            if gain >= best_gain:\n",
    "                best_gain, best_question = gain, question\n",
    "\n",
    "    return best_gain, best_question"
   ]
  },
  {
   "cell_type": "code",
   "execution_count": 244,
   "metadata": {},
   "outputs": [
    {
     "name": "stdout",
     "output_type": "stream",
     "text": [
      "Best gain:  0.35309311224489803 \n",
      "best question:  Is petal width (cm) >= 1.0?\n"
     ]
    }
   ],
   "source": [
    "best_gain, best_question = find_best_split(data_train)\n",
    "print(\"Best gain: \", best_gain, \n",
    "      \"\\nbest question: \", best_question)"
   ]
  },
  {
   "cell_type": "code",
   "execution_count": 245,
   "metadata": {},
   "outputs": [],
   "source": [
    "class Leaf:\n",
    "    \"\"\"A Leaf node classifies data.\n",
    "\n",
    "    This holds a dictionary of class (e.g., \"Apple\") -> number of times\n",
    "    it appears in the rows from the training data that reach this leaf.\n",
    "    \"\"\"\n",
    "\n",
    "    def __init__(self, rows):\n",
    "        self.predictions = class_counts(rows)"
   ]
  },
  {
   "cell_type": "code",
   "execution_count": 260,
   "metadata": {},
   "outputs": [],
   "source": [
    "class Decision_Node:\n",
    "    \"\"\"A Decision Node asks a question.\n",
    "\n",
    "    This holds a reference to the question, and to the two child nodes.\n",
    "    \"\"\"\n",
    "\n",
    "    def __init__(self, question, true_branch, false_branch):\n",
    "        self.question = question\n",
    "        self.true_branch = true_branch\n",
    "        self.false_branch = false_branch"
   ]
  },
  {
   "cell_type": "code",
   "execution_count": 247,
   "metadata": {},
   "outputs": [],
   "source": [
    "def build_tree(rows):\n",
    "    \"\"\"Builds the tree.\n",
    "\n",
    "    Rules of recursion: 1) Believe that it works. 2) Start by checking\n",
    "    for the base case (no further information gain). 3) Prepare for\n",
    "    giant stack traces.\n",
    "    \"\"\"\n",
    "\n",
    "    # Try partitioing the dataset on each of the unique attribute,\n",
    "    # calculate the information gain,\n",
    "    # and return the question that produces the highest gain.\n",
    "    gain, question = find_best_split(rows)\n",
    "\n",
    "    # Base case: no further info gain\n",
    "    # Since we can ask no further questions,\n",
    "    # we'll return a leaf.\n",
    "    if gain == 0:\n",
    "        return Leaf(rows)\n",
    "\n",
    "    # If we reach here, we have found a useful feature / value\n",
    "    # to partition on.\n",
    "    true_rows, false_rows = partition(rows, question)\n",
    "\n",
    "    # Recursively build the true branch.\n",
    "    true_branch = build_tree(true_rows)\n",
    "\n",
    "    # Recursively build the false branch.\n",
    "    false_branch = build_tree(false_rows)\n",
    "\n",
    "    # Return a Question node.\n",
    "    # This records the best feature / value to ask at this point,\n",
    "    # as well as the branches to follow\n",
    "    # dependingo on the answer.\n",
    "    return Decision_Node(question, true_branch, false_branch)"
   ]
  },
  {
   "cell_type": "code",
   "execution_count": 248,
   "metadata": {},
   "outputs": [],
   "source": [
    "def print_tree(node, spacing=\"\"):\n",
    "    \"\"\"World's most elegant tree printing function.\"\"\"\n",
    "\n",
    "    # Base case: we've reached a leaf\n",
    "    if isinstance(node, Leaf):\n",
    "        print (spacing + \"Predict\", node.predictions)\n",
    "        return\n",
    "\n",
    "    # Print the question at this node\n",
    "    print (spacing + str(node.question))\n",
    "\n",
    "    # Call this function recursively on the true branch\n",
    "    print (spacing + '--> True:')\n",
    "    print_tree(node.true_branch, spacing + \"  \")\n",
    "\n",
    "    # Call this function recursively on the false branch\n",
    "    print (spacing + '--> False:')\n",
    "    print_tree(node.false_branch, spacing + \"  \")"
   ]
  },
  {
   "cell_type": "code",
   "execution_count": 249,
   "metadata": {},
   "outputs": [
    {
     "name": "stdout",
     "output_type": "stream",
     "text": [
      "Is petal width (cm) >= 1.0?\n",
      "--> True:\n",
      "  Is petal width (cm) >= 1.75?\n",
      "  --> True:\n",
      "    Is petal length (cm) >= 5.0?\n",
      "    --> True:\n",
      "      Is petal width (cm) >= 2.0?\n",
      "      --> True:\n",
      "        Predict {2.0: 22}\n",
      "      --> False:\n",
      "        Is sepal length (cm) >= 6.75?\n",
      "        --> True:\n",
      "          Is petal length (cm) >= 5.75?\n",
      "          --> True:\n",
      "            Predict {2.0: 2}\n",
      "          --> False:\n",
      "            Predict {1.0: 1}\n",
      "        --> False:\n",
      "          Predict {2.0: 4}\n",
      "    --> False:\n",
      "      Is petal length (cm) >= 4.75?\n",
      "      --> True:\n",
      "        Predict {1.0: 1}\n",
      "      --> False:\n",
      "        Predict {2.0: 1}\n",
      "  --> False:\n",
      "    Is petal length (cm) >= 5.75?\n",
      "    --> True:\n",
      "      Predict {2.0: 1}\n",
      "    --> False:\n",
      "      Is petal length (cm) >= 5.0?\n",
      "      --> True:\n",
      "        Is sepal width (cm) >= 2.75?\n",
      "        --> True:\n",
      "          Is sepal length (cm) >= 6.25?\n",
      "          --> True:\n",
      "            Is sepal width (cm) >= 3.0?\n",
      "            --> True:\n",
      "              Predict {1.0: 1}\n",
      "            --> False:\n",
      "              Predict {2.0: 1}\n",
      "          --> False:\n",
      "            Predict {1.0: 1}\n",
      "        --> False:\n",
      "          Predict {1.0: 1}\n",
      "      --> False:\n",
      "        Predict {1.0: 34}\n",
      "--> False:\n",
      "  Predict {0.0: 42}\n"
     ]
    }
   ],
   "source": [
    "my_tree = build_tree(data_train)\n",
    "print_tree(my_tree)"
   ]
  },
  {
   "cell_type": "code",
   "execution_count": 250,
   "metadata": {},
   "outputs": [],
   "source": [
    "def classify(row, node):\n",
    "    \"\"\"See the 'rules of recursion' above.\"\"\"\n",
    "\n",
    "    # Base case: we've reached a leaf\n",
    "    if isinstance(node, Leaf):\n",
    "        return node.predictions\n",
    "\n",
    "    # Decide whether to follow the true-branch or the false-branch.\n",
    "    # Compare the feature / value stored in the node,\n",
    "    # to the example we're considering.\n",
    "    if node.question.match(row):\n",
    "        return classify(row, node.true_branch)\n",
    "    else:\n",
    "        return classify(row, node.false_branch)"
   ]
  },
  {
   "cell_type": "code",
   "execution_count": 251,
   "metadata": {},
   "outputs": [
    {
     "data": {
      "text/plain": [
       "{1.0: 34}"
      ]
     },
     "execution_count": 251,
     "metadata": {},
     "output_type": "execute_result"
    }
   ],
   "source": [
    "classify(data_train[0],my_tree)"
   ]
  },
  {
   "cell_type": "code",
   "execution_count": 256,
   "metadata": {},
   "outputs": [],
   "source": [
    "def print_leaf(counts):\n",
    "    total = sum(counts.values())\n",
    "    probs = {}\n",
    "    for lbl in counts.keys():\n",
    "        probs[lbl] = str(int(counts[lbl] / total * 100)) + \"%\"\n",
    "    return probs"
   ]
  },
  {
   "cell_type": "code",
   "execution_count": 257,
   "metadata": {},
   "outputs": [
    {
     "data": {
      "text/plain": [
       "{1.0: '100%'}"
      ]
     },
     "execution_count": 257,
     "metadata": {},
     "output_type": "execute_result"
    }
   ],
   "source": [
    "print_leaf(classify(data_train[0], my_tree))"
   ]
  },
  {
   "cell_type": "code",
   "execution_count": 258,
   "metadata": {},
   "outputs": [
    {
     "data": {
      "text/plain": [
       "{1.0: '100%'}"
      ]
     },
     "execution_count": 258,
     "metadata": {},
     "output_type": "execute_result"
    }
   ],
   "source": [
    "print_leaf(classify(data_train[18], my_tree))"
   ]
  },
  {
   "cell_type": "code",
   "execution_count": 259,
   "metadata": {},
   "outputs": [
    {
     "name": "stdout",
     "output_type": "stream",
     "text": [
      "Actual: 1.0. Predicted: {1.0: '100%'}\n",
      "Actual: 1.0. Predicted: {1.0: '100%'}\n",
      "Actual: 0.0. Predicted: {0.0: '100%'}\n",
      "Actual: 1.0. Predicted: {1.0: '100%'}\n",
      "Actual: 2.0. Predicted: {1.0: '100%'}\n",
      "Actual: 2.0. Predicted: {2.0: '100%'}\n",
      "Actual: 0.0. Predicted: {0.0: '100%'}\n",
      "Actual: 0.0. Predicted: {0.0: '100%'}\n",
      "Actual: 2.0. Predicted: {2.0: '100%'}\n",
      "Actual: 2.0. Predicted: {2.0: '100%'}\n",
      "Actual: 2.0. Predicted: {2.0: '100%'}\n",
      "Actual: 0.0. Predicted: {0.0: '100%'}\n",
      "Actual: 2.0. Predicted: {2.0: '100%'}\n",
      "Actual: 1.0. Predicted: {1.0: '100%'}\n",
      "Actual: 2.0. Predicted: {2.0: '100%'}\n",
      "Actual: 1.0. Predicted: {1.0: '100%'}\n",
      "Actual: 2.0. Predicted: {1.0: '100%'}\n",
      "Actual: 0.0. Predicted: {0.0: '100%'}\n",
      "Actual: 1.0. Predicted: {1.0: '100%'}\n",
      "Actual: 2.0. Predicted: {2.0: '100%'}\n",
      "Actual: 0.0. Predicted: {0.0: '100%'}\n",
      "Actual: 0.0. Predicted: {0.0: '100%'}\n",
      "Actual: 2.0. Predicted: {2.0: '100%'}\n",
      "Actual: 0.0. Predicted: {0.0: '100%'}\n",
      "Actual: 2.0. Predicted: {1.0: '100%'}\n",
      "Actual: 2.0. Predicted: {1.0: '100%'}\n",
      "Actual: 1.0. Predicted: {1.0: '100%'}\n",
      "Actual: 1.0. Predicted: {1.0: '100%'}\n",
      "Actual: 2.0. Predicted: {2.0: '100%'}\n",
      "Actual: 2.0. Predicted: {2.0: '100%'}\n",
      "Actual: 1.0. Predicted: {1.0: '100%'}\n",
      "Actual: 1.0. Predicted: {1.0: '100%'}\n",
      "Actual: 2.0. Predicted: {2.0: '100%'}\n",
      "Actual: 2.0. Predicted: {2.0: '100%'}\n",
      "Actual: 2.0. Predicted: {2.0: '100%'}\n",
      "Actual: 2.0. Predicted: {2.0: '100%'}\n",
      "Actual: 2.0. Predicted: {2.0: '100%'}\n",
      "Actual: 1.0. Predicted: {1.0: '100%'}\n"
     ]
    }
   ],
   "source": [
    "for row in data_test:\n",
    "    print (\"Actual: %s. Predicted: %s\" %\n",
    "           (row[-1], print_leaf(classify(row, my_tree))))"
   ]
  },
  {
   "cell_type": "code",
   "execution_count": null,
   "metadata": {},
   "outputs": [],
   "source": []
  },
  {
   "cell_type": "code",
   "execution_count": null,
   "metadata": {},
   "outputs": [],
   "source": []
  }
 ],
 "metadata": {
  "kernelspec": {
   "display_name": "Python 3",
   "language": "python",
   "name": "python3"
  },
  "language_info": {
   "codemirror_mode": {
    "name": "ipython",
    "version": 3
   },
   "file_extension": ".py",
   "mimetype": "text/x-python",
   "name": "python",
   "nbconvert_exporter": "python",
   "pygments_lexer": "ipython3",
   "version": "3.7.2"
  }
 },
 "nbformat": 4,
 "nbformat_minor": 2
}
