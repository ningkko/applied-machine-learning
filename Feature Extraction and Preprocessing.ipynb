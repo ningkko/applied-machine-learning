{
 "cells": [
  {
   "cell_type": "markdown",
   "metadata": {},
   "source": [
    "### One-Hot Encoding\n",
    "- Contains order"
   ]
  },
  {
   "cell_type": "code",
   "execution_count": 1,
   "metadata": {},
   "outputs": [],
   "source": [
    "from sklearn.feature_extraction import DictVectorizer"
   ]
  },
  {
   "cell_type": "code",
   "execution_count": 2,
   "metadata": {},
   "outputs": [
    {
     "name": "stdout",
     "output_type": "stream",
     "text": [
      "[[0. 1. 0.]\n",
      " [0. 0. 1.]\n",
      " [1. 0. 0.]]\n"
     ]
    }
   ],
   "source": [
    "onehot_encoder = DictVectorizer()\n",
    "instances = [\n",
    "    {'city': 'New York'},\n",
    "    {'city': 'San Francisco'},\n",
    "    {'city': 'Chapel hILL'}\n",
    "]\n",
    "print(onehot_encoder.fit_transform(instances).toarray())"
   ]
  },
  {
   "cell_type": "markdown",
   "metadata": {},
   "source": [
    "## Extracting features from text\n",
    "### The bag-of-words representation\n",
    "- does not encode syntax, ignores the order of words, disregards all grammar\n",
    "- Effective for document classification and retrieval\n",
    "- Uses a feature vector with an element for each of the words\n",
    "- Tokens: case-insensitive words or affixes"
   ]
  },
  {
   "cell_type": "code",
   "execution_count": 3,
   "metadata": {},
   "outputs": [
    {
     "name": "stdout",
     "output_type": "stream",
     "text": [
      "[[0 1 1 0 1 0 1 0 0 1]\n",
      " [0 1 1 1 0 1 0 0 1 0]\n",
      " [1 0 0 0 0 0 0 1 0 0]]\n",
      "{'unc': 9, 'played': 6, 'duke': 2, 'in': 4, 'basketball': 1, 'lost': 5, 'the': 8, 'game': 3, 'ate': 0, 'sandwich': 7}\n"
     ]
    }
   ],
   "source": [
    "from sklearn.feature_extraction.text import CountVectorizer\n",
    "corpus = [\n",
    "        'UNC played Duke in basketball',\n",
    "        'Duke lost the basketball game',\n",
    "        'I ate a sandwich'\n",
    "]\n",
    "vectorizer = CountVectorizer()\n",
    "\n",
    "## Prints whether the nth word in the vocabulary list has appeared\n",
    "## in the nth feature vector\n",
    "print(vectorizer.fit_transform(corpus).todense())\n",
    "## Prints the vocabulary list\n",
    "print(vectorizer.vocabulary_)"
   ]
  },
  {
   "cell_type": "markdown",
   "metadata": {},
   "source": [
    "#### We can calculate the Euclidean distance between each pair of the vectors, to see which ones are more similar. "
   ]
  },
  {
   "cell_type": "code",
   "execution_count": 4,
   "metadata": {},
   "outputs": [
    {
     "data": {
      "text/plain": [
       "matrix([[0, 1, 1, 0, 1, 0, 1, 0, 0, 1],\n",
       "        [0, 1, 1, 1, 0, 1, 0, 0, 1, 0],\n",
       "        [1, 0, 0, 0, 0, 0, 0, 1, 0, 0]], dtype=int64)"
      ]
     },
     "execution_count": 4,
     "metadata": {},
     "output_type": "execute_result"
    }
   ],
   "source": [
    "from sklearn.metrics.pairwise import euclidean_distances\n",
    "counts = vectorizer.fit_transform(corpus).todense()\n",
    "counts"
   ]
  },
  {
   "cell_type": "code",
   "execution_count": 5,
   "metadata": {},
   "outputs": [
    {
     "name": "stdout",
     "output_type": "stream",
     "text": [
      "Distance between 1st and 2nd documents: [[2.44948974]]\n",
      "Distance between 2nd and 3rd documents: [[2.64575131]]\n",
      "Distance between 3rd and 1st documents: [[2.64575131]]\n"
     ]
    }
   ],
   "source": [
    "print('Distance between 1st and 2nd documents:', euclidean_distances(counts[0], counts[1]))\n",
    "print('Distance between 2nd and 3rd documents:', euclidean_distances(counts[1], counts[2]))\n",
    "print('Distance between 3rd and 1st documents:', euclidean_distances(counts[2], counts[0]))"
   ]
  },
  {
   "cell_type": "markdown",
   "metadata": {},
   "source": [
    "- **Sparse vectors** ::= High-dimensional feature vectors that have many zero-values elements\n",
    "    - We want to reduce the dimension because higher dimension data require more space and more trainings"
   ]
  },
  {
   "cell_type": "markdown",
   "metadata": {},
   "source": [
    "## Extending bag-of-words wit TF-IDF weights\n",
    "- Sometimes containing a word for a single time can be entirely different than containing a word many times. We add a variable to count for the time a word appears in a text. "
   ]
  },
  {
   "cell_type": "code",
   "execution_count": 23,
   "metadata": {},
   "outputs": [
    {
     "name": "stdout",
     "output_type": "stream",
     "text": [
      "[[2 1 3 1 1]] \n",
      " {'dog': 1, 'ate': 0, 'sandwich': 2, 'wizard': 4, 'transfigured': 3}\n",
      "\n",
      "\n",
      " [[0.75458397 0.37729199 0.53689271 0.         0.        ]\n",
      " [0.         0.         0.44943642 0.6316672  0.6316672 ]] \n",
      " {'dog': 1, 'ate': 0, 'sandwich': 2, 'wizard': 4, 'transfigured': 3}\n"
     ]
    }
   ],
   "source": [
    "from sklearn.feature_extraction.text import CountVectorizer\n",
    "corpus = ['The dog ate a sandwich, the wizard transfigured a sandwich, and I ate a sandwich']\n",
    "vectorizer = CountVectorizer(stop_words='english')\n",
    "result = vectorizer.fit_transform(corpus).todense()\n",
    "print (result,\"\\n\", vectorizer.vocabulary_)\n",
    "\n",
    "\n",
    "## Now to consider also abouy=t the document frequency\n",
    "## we introduce the inverse document frequency (IDF), which \n",
    "# is a measure of how frequent a word is in a corpus.\n",
    "from sklearn.feature_extraction.text import TfidfVectorizer\n",
    "corpus = [\n",
    "'The dog ate a sandwich and I ate a sandwich',\n",
    "'The wizard transfigured a sandwich'\n",
    "]\n",
    "vectorizer = TfidfVectorizer(stop_words='english')\n",
    "result = vectorizer.fit_transform(corpus).todense()\n",
    "print (\"\\n\\n\",result,\"\\n\", vectorizer.vocabulary_)"
   ]
  },
  {
   "cell_type": "markdown",
   "metadata": {},
   "source": [
    "#### We can see that words appear more times in the corpus are penalized (e.g., sandwich)."
   ]
  },
  {
   "cell_type": "markdown",
   "metadata": {},
   "source": [
    "### Stop-word filtering\n",
    "- Dterminers, auxiliary verbs, prepositions etc..\n",
    "- Contribute through grammar rather than denotations\n"
   ]
  },
  {
   "cell_type": "code",
   "execution_count": 6,
   "metadata": {},
   "outputs": [
    {
     "name": "stdout",
     "output_type": "stream",
     "text": [
      "[[0 1 1 0 0 1 0 1]\n",
      " [0 1 1 1 1 0 0 0]\n",
      " [1 0 0 0 0 0 1 0]]\n",
      "{'unc': 7, 'played': 5, 'duke': 2, 'basketball': 1, 'lost': 4, 'game': 3, 'ate': 0, 'sandwich': 6}\n"
     ]
    }
   ],
   "source": [
    "vectorizer = CountVectorizer(stop_words = \"english\")\n",
    "print(vectorizer.fit_transform(corpus).todense())\n",
    "print(vectorizer.vocabulary_)"
   ]
  },
  {
   "cell_type": "markdown",
   "metadata": {},
   "source": [
    "#### We can see that the vocabulary list ignored stop words \"the\" and \"in\"."
   ]
  },
  {
   "cell_type": "markdown",
   "metadata": {},
   "source": [
    "### Stemming\n",
    "- A strategy to condense inflected and derived forms of a word into single feature"
   ]
  },
  {
   "cell_type": "code",
   "execution_count": 7,
   "metadata": {},
   "outputs": [
    {
     "name": "stdout",
     "output_type": "stream",
     "text": [
      "[[1 0 0 0 1]\n",
      " [0 0 1 1 0]\n",
      " [0 1 0 1 0]]\n",
      "{'ate': 0, 'sandwiches': 4, 'sandwich': 3, 'eaten': 2, 'eat': 1}\n",
      "Distance between 1st and 2nd documents: [[2.]]\n",
      "Distance between 2nd and 3rd documents: [[1.41421356]]\n",
      "Distance between 3rd and 1st documents: [[2.]]\n"
     ]
    }
   ],
   "source": [
    "vectorizer = CountVectorizer(binary=True, stop_words='english')\n",
    "corpus = [\n",
    "    'He ate the sandwiches',\n",
    "    'Every sandwich was eaten by him',\n",
    "    'I eat that sandwich'\n",
    "]\n",
    "\n",
    "counts = vectorizer.fit_transform(corpus).todense()\n",
    "print(counts)\n",
    "print(vectorizer.vocabulary_)\n",
    "\n",
    "print('Distance between 1st and 2nd documents:', euclidean_distances(counts[0], counts[1]))\n",
    "print('Distance between 2nd and 3rd documents:', euclidean_distances(counts[1], counts[2]))\n",
    "print('Distance between 3rd and 1st documents:', euclidean_distances(counts[2], counts[0]))"
   ]
  },
  {
   "cell_type": "markdown",
   "metadata": {},
   "source": [
    "### Lemmatization\n",
    "- the process of determining the lemma, aka the morphological roots of words\n",
    "- stemming remmoves all patterns of characters that appear to be affixes. Might result in generating tokens that are not words"
   ]
  },
  {
   "cell_type": "code",
   "execution_count": 8,
   "metadata": {},
   "outputs": [],
   "source": [
    "corpus = [\n",
    "       'I am gathering ingredients for the sandwich.',\n",
    "       'There were many wizards at the gathering.'\n",
    "]"
   ]
  },
  {
   "cell_type": "code",
   "execution_count": 11,
   "metadata": {},
   "outputs": [],
   "source": [
    "import nltk\n",
    "## The toolkit can be used after calling nltk.download()\n",
    "## But I have no space left on my device for downloading.\n",
    "## Check p.58 in Mastering Machine Learning with Scikit-Learn."
   ]
  },
  {
   "cell_type": "code",
   "execution_count": 10,
   "metadata": {},
   "outputs": [],
   "source": []
  },
  {
   "cell_type": "code",
   "execution_count": null,
   "metadata": {},
   "outputs": [],
   "source": []
  }
 ],
 "metadata": {
  "kernelspec": {
   "display_name": "Python 3",
   "language": "python",
   "name": "python3"
  },
  "language_info": {
   "codemirror_mode": {
    "name": "ipython",
    "version": 3
   },
   "file_extension": ".py",
   "mimetype": "text/x-python",
   "name": "python",
   "nbconvert_exporter": "python",
   "pygments_lexer": "ipython3",
   "version": "3.7.2"
  }
 },
 "nbformat": 4,
 "nbformat_minor": 2
}
